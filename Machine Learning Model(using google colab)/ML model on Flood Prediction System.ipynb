{
  "nbformat": 4,
  "nbformat_minor": 5,
  "metadata": {
    "kernelspec": {
      "display_name": "Python 3",
      "language": "python",
      "name": "python3"
    },
    "language_info": {
      "codemirror_mode": {
        "name": "ipython",
        "version": 3
      },
      "file_extension": ".py",
      "mimetype": "text/x-python",
      "name": "python",
      "nbconvert_exporter": "python",
      "pygments_lexer": "ipython3",
      "version": "3.8.8"
    },
    "colab": {
      "name": "Avin Shejwal_D6-52(Flood_Prediction).ipynb",
      "provenance": []
    }
  },
  "cells": [
    {
      "cell_type": "markdown",
      "metadata": {
        "id": "0b5d6902"
      },
      "source": [
        "# FLOOD PREDICTION MODEL"
      ],
      "id": "0b5d6902"
    },
    {
      "cell_type": "markdown",
      "metadata": {
        "id": "f2d94cac"
      },
      "source": [
        "Importing Required Libraries."
      ],
      "id": "f2d94cac"
    },
    {
      "cell_type": "code",
      "metadata": {
        "id": "adb725b3"
      },
      "source": [
        "import numpy as np\n",
        "import pandas as pd"
      ],
      "id": "adb725b3",
      "execution_count": null,
      "outputs": []
    },
    {
      "cell_type": "code",
      "metadata": {
        "id": "72b35693",
        "outputId": "ceb1d96c-0ff7-4dee-9605-1e4aadde2bcb"
      },
      "source": [
        "pwd"
      ],
      "id": "72b35693",
      "execution_count": null,
      "outputs": [
        {
          "output_type": "execute_result",
          "data": {
            "text/plain": [
              "'C:\\\\Users\\\\AVIN'"
            ]
          },
          "metadata": {
            "tags": []
          },
          "execution_count": 5
        }
      ]
    },
    {
      "cell_type": "code",
      "metadata": {
        "id": "4b6a143e",
        "outputId": "25e6433e-ec02-44c3-cb7b-2cf08bd2408c"
      },
      "source": [
        "data = pd.read_csv(r\"C:\\Users\\AVIN\\Flood Prediction\\kerala.csv\")\n",
        "print(data)"
      ],
      "id": "4b6a143e",
      "execution_count": null,
      "outputs": [
        {
          "output_type": "stream",
          "text": [
            "    SUBDIVISION  YEAR   JAN   FEB   MAR    APR    MAY     JUN     JUL     AUG  \\\n",
            "0        KERALA  1901  28.7  44.7  51.6  160.0  174.7   824.6   743.0   357.5   \n",
            "1        KERALA  1902   6.7   2.6  57.3   83.9  134.5   390.9  1205.0   315.8   \n",
            "2        KERALA  1903   3.2  18.6   3.1   83.6  249.7   558.6  1022.5   420.2   \n",
            "3        KERALA  1904  23.7   3.0  32.2   71.5  235.7  1098.2   725.5   351.8   \n",
            "4        KERALA  1905   1.2  22.3   9.4  105.9  263.3   850.2   520.5   293.6   \n",
            "..          ...   ...   ...   ...   ...    ...    ...     ...     ...     ...   \n",
            "113      KERALA  2014   4.6  10.3  17.9   95.7  251.0   454.4   677.8   733.9   \n",
            "114      KERALA  2015   3.1   5.8  50.1  214.1  201.8   563.6   406.0   252.2   \n",
            "115      KERALA  2016   2.4   3.8  35.9  143.0  186.4   522.2   412.3   325.5   \n",
            "116     KERALA   2017   1.9   6.8   8.9   43.6  173.5   498.5   319.6   531.8   \n",
            "117      KERALA  2018  29.1  52.1  48.6  116.4  183.8   625.4  1048.5  1398.9   \n",
            "\n",
            "       SEP    OCT    NOV    DEC   ANNUAL RAINFALL FLOODS  \n",
            "0    197.7  266.9  350.8   48.4            3248.6    YES  \n",
            "1    491.6  358.4  158.3  121.5            3326.6    YES  \n",
            "2    341.8  354.1  157.0   59.0            3271.2    YES  \n",
            "3    222.7  328.1   33.9    3.3            3129.7    YES  \n",
            "4    217.2  383.5   74.4    0.2            2741.6     NO  \n",
            "..     ...    ...    ...    ...               ...    ...  \n",
            "113  298.8  355.5   99.5   47.2            3046.4    YES  \n",
            "114  292.9  308.1  223.6   79.4            2600.6     NO  \n",
            "115  173.2  225.9  125.4   23.6            2176.6     NO  \n",
            "116  209.5  192.4   92.5   38.1            2117.1     NO  \n",
            "117  423.6  356.1  125.4   65.1            4473.0    YES  \n",
            "\n",
            "[118 rows x 16 columns]\n"
          ],
          "name": "stdout"
        }
      ]
    },
    {
      "cell_type": "code",
      "metadata": {
        "id": "07584335",
        "outputId": "3f656cf1-4790-48f2-c252-d44266538e78"
      },
      "source": [
        "data.head()"
      ],
      "id": "07584335",
      "execution_count": null,
      "outputs": [
        {
          "output_type": "execute_result",
          "data": {
            "text/html": [
              "<div>\n",
              "<style scoped>\n",
              "    .dataframe tbody tr th:only-of-type {\n",
              "        vertical-align: middle;\n",
              "    }\n",
              "\n",
              "    .dataframe tbody tr th {\n",
              "        vertical-align: top;\n",
              "    }\n",
              "\n",
              "    .dataframe thead th {\n",
              "        text-align: right;\n",
              "    }\n",
              "</style>\n",
              "<table border=\"1\" class=\"dataframe\">\n",
              "  <thead>\n",
              "    <tr style=\"text-align: right;\">\n",
              "      <th></th>\n",
              "      <th>SUBDIVISION</th>\n",
              "      <th>YEAR</th>\n",
              "      <th>JAN</th>\n",
              "      <th>FEB</th>\n",
              "      <th>MAR</th>\n",
              "      <th>APR</th>\n",
              "      <th>MAY</th>\n",
              "      <th>JUN</th>\n",
              "      <th>JUL</th>\n",
              "      <th>AUG</th>\n",
              "      <th>SEP</th>\n",
              "      <th>OCT</th>\n",
              "      <th>NOV</th>\n",
              "      <th>DEC</th>\n",
              "      <th>ANNUAL RAINFALL</th>\n",
              "      <th>FLOODS</th>\n",
              "    </tr>\n",
              "  </thead>\n",
              "  <tbody>\n",
              "    <tr>\n",
              "      <th>0</th>\n",
              "      <td>KERALA</td>\n",
              "      <td>1901</td>\n",
              "      <td>28.7</td>\n",
              "      <td>44.7</td>\n",
              "      <td>51.6</td>\n",
              "      <td>160.0</td>\n",
              "      <td>174.7</td>\n",
              "      <td>824.6</td>\n",
              "      <td>743.0</td>\n",
              "      <td>357.5</td>\n",
              "      <td>197.7</td>\n",
              "      <td>266.9</td>\n",
              "      <td>350.8</td>\n",
              "      <td>48.4</td>\n",
              "      <td>3248.6</td>\n",
              "      <td>YES</td>\n",
              "    </tr>\n",
              "    <tr>\n",
              "      <th>1</th>\n",
              "      <td>KERALA</td>\n",
              "      <td>1902</td>\n",
              "      <td>6.7</td>\n",
              "      <td>2.6</td>\n",
              "      <td>57.3</td>\n",
              "      <td>83.9</td>\n",
              "      <td>134.5</td>\n",
              "      <td>390.9</td>\n",
              "      <td>1205.0</td>\n",
              "      <td>315.8</td>\n",
              "      <td>491.6</td>\n",
              "      <td>358.4</td>\n",
              "      <td>158.3</td>\n",
              "      <td>121.5</td>\n",
              "      <td>3326.6</td>\n",
              "      <td>YES</td>\n",
              "    </tr>\n",
              "    <tr>\n",
              "      <th>2</th>\n",
              "      <td>KERALA</td>\n",
              "      <td>1903</td>\n",
              "      <td>3.2</td>\n",
              "      <td>18.6</td>\n",
              "      <td>3.1</td>\n",
              "      <td>83.6</td>\n",
              "      <td>249.7</td>\n",
              "      <td>558.6</td>\n",
              "      <td>1022.5</td>\n",
              "      <td>420.2</td>\n",
              "      <td>341.8</td>\n",
              "      <td>354.1</td>\n",
              "      <td>157.0</td>\n",
              "      <td>59.0</td>\n",
              "      <td>3271.2</td>\n",
              "      <td>YES</td>\n",
              "    </tr>\n",
              "    <tr>\n",
              "      <th>3</th>\n",
              "      <td>KERALA</td>\n",
              "      <td>1904</td>\n",
              "      <td>23.7</td>\n",
              "      <td>3.0</td>\n",
              "      <td>32.2</td>\n",
              "      <td>71.5</td>\n",
              "      <td>235.7</td>\n",
              "      <td>1098.2</td>\n",
              "      <td>725.5</td>\n",
              "      <td>351.8</td>\n",
              "      <td>222.7</td>\n",
              "      <td>328.1</td>\n",
              "      <td>33.9</td>\n",
              "      <td>3.3</td>\n",
              "      <td>3129.7</td>\n",
              "      <td>YES</td>\n",
              "    </tr>\n",
              "    <tr>\n",
              "      <th>4</th>\n",
              "      <td>KERALA</td>\n",
              "      <td>1905</td>\n",
              "      <td>1.2</td>\n",
              "      <td>22.3</td>\n",
              "      <td>9.4</td>\n",
              "      <td>105.9</td>\n",
              "      <td>263.3</td>\n",
              "      <td>850.2</td>\n",
              "      <td>520.5</td>\n",
              "      <td>293.6</td>\n",
              "      <td>217.2</td>\n",
              "      <td>383.5</td>\n",
              "      <td>74.4</td>\n",
              "      <td>0.2</td>\n",
              "      <td>2741.6</td>\n",
              "      <td>NO</td>\n",
              "    </tr>\n",
              "  </tbody>\n",
              "</table>\n",
              "</div>"
            ],
            "text/plain": [
              "  SUBDIVISION  YEAR   JAN   FEB   MAR    APR    MAY     JUN     JUL    AUG  \\\n",
              "0      KERALA  1901  28.7  44.7  51.6  160.0  174.7   824.6   743.0  357.5   \n",
              "1      KERALA  1902   6.7   2.6  57.3   83.9  134.5   390.9  1205.0  315.8   \n",
              "2      KERALA  1903   3.2  18.6   3.1   83.6  249.7   558.6  1022.5  420.2   \n",
              "3      KERALA  1904  23.7   3.0  32.2   71.5  235.7  1098.2   725.5  351.8   \n",
              "4      KERALA  1905   1.2  22.3   9.4  105.9  263.3   850.2   520.5  293.6   \n",
              "\n",
              "     SEP    OCT    NOV    DEC   ANNUAL RAINFALL FLOODS  \n",
              "0  197.7  266.9  350.8   48.4            3248.6    YES  \n",
              "1  491.6  358.4  158.3  121.5            3326.6    YES  \n",
              "2  341.8  354.1  157.0   59.0            3271.2    YES  \n",
              "3  222.7  328.1   33.9    3.3            3129.7    YES  \n",
              "4  217.2  383.5   74.4    0.2            2741.6     NO  "
            ]
          },
          "metadata": {
            "tags": []
          },
          "execution_count": 10
        }
      ]
    },
    {
      "cell_type": "code",
      "metadata": {
        "id": "e0ce4ec1",
        "outputId": "777c68a1-8a2c-4e26-b5a6-792848d6ff82"
      },
      "source": [
        "data.tail()"
      ],
      "id": "e0ce4ec1",
      "execution_count": null,
      "outputs": [
        {
          "output_type": "execute_result",
          "data": {
            "text/html": [
              "<div>\n",
              "<style scoped>\n",
              "    .dataframe tbody tr th:only-of-type {\n",
              "        vertical-align: middle;\n",
              "    }\n",
              "\n",
              "    .dataframe tbody tr th {\n",
              "        vertical-align: top;\n",
              "    }\n",
              "\n",
              "    .dataframe thead th {\n",
              "        text-align: right;\n",
              "    }\n",
              "</style>\n",
              "<table border=\"1\" class=\"dataframe\">\n",
              "  <thead>\n",
              "    <tr style=\"text-align: right;\">\n",
              "      <th></th>\n",
              "      <th>SUBDIVISION</th>\n",
              "      <th>YEAR</th>\n",
              "      <th>JAN</th>\n",
              "      <th>FEB</th>\n",
              "      <th>MAR</th>\n",
              "      <th>APR</th>\n",
              "      <th>MAY</th>\n",
              "      <th>JUN</th>\n",
              "      <th>JUL</th>\n",
              "      <th>AUG</th>\n",
              "      <th>SEP</th>\n",
              "      <th>OCT</th>\n",
              "      <th>NOV</th>\n",
              "      <th>DEC</th>\n",
              "      <th>ANNUAL RAINFALL</th>\n",
              "      <th>FLOODS</th>\n",
              "    </tr>\n",
              "  </thead>\n",
              "  <tbody>\n",
              "    <tr>\n",
              "      <th>113</th>\n",
              "      <td>KERALA</td>\n",
              "      <td>2014</td>\n",
              "      <td>4.6</td>\n",
              "      <td>10.3</td>\n",
              "      <td>17.9</td>\n",
              "      <td>95.7</td>\n",
              "      <td>251.0</td>\n",
              "      <td>454.4</td>\n",
              "      <td>677.8</td>\n",
              "      <td>733.9</td>\n",
              "      <td>298.8</td>\n",
              "      <td>355.5</td>\n",
              "      <td>99.5</td>\n",
              "      <td>47.2</td>\n",
              "      <td>3046.4</td>\n",
              "      <td>YES</td>\n",
              "    </tr>\n",
              "    <tr>\n",
              "      <th>114</th>\n",
              "      <td>KERALA</td>\n",
              "      <td>2015</td>\n",
              "      <td>3.1</td>\n",
              "      <td>5.8</td>\n",
              "      <td>50.1</td>\n",
              "      <td>214.1</td>\n",
              "      <td>201.8</td>\n",
              "      <td>563.6</td>\n",
              "      <td>406.0</td>\n",
              "      <td>252.2</td>\n",
              "      <td>292.9</td>\n",
              "      <td>308.1</td>\n",
              "      <td>223.6</td>\n",
              "      <td>79.4</td>\n",
              "      <td>2600.6</td>\n",
              "      <td>NO</td>\n",
              "    </tr>\n",
              "    <tr>\n",
              "      <th>115</th>\n",
              "      <td>KERALA</td>\n",
              "      <td>2016</td>\n",
              "      <td>2.4</td>\n",
              "      <td>3.8</td>\n",
              "      <td>35.9</td>\n",
              "      <td>143.0</td>\n",
              "      <td>186.4</td>\n",
              "      <td>522.2</td>\n",
              "      <td>412.3</td>\n",
              "      <td>325.5</td>\n",
              "      <td>173.2</td>\n",
              "      <td>225.9</td>\n",
              "      <td>125.4</td>\n",
              "      <td>23.6</td>\n",
              "      <td>2176.6</td>\n",
              "      <td>NO</td>\n",
              "    </tr>\n",
              "    <tr>\n",
              "      <th>116</th>\n",
              "      <td>KERALA</td>\n",
              "      <td>2017</td>\n",
              "      <td>1.9</td>\n",
              "      <td>6.8</td>\n",
              "      <td>8.9</td>\n",
              "      <td>43.6</td>\n",
              "      <td>173.5</td>\n",
              "      <td>498.5</td>\n",
              "      <td>319.6</td>\n",
              "      <td>531.8</td>\n",
              "      <td>209.5</td>\n",
              "      <td>192.4</td>\n",
              "      <td>92.5</td>\n",
              "      <td>38.1</td>\n",
              "      <td>2117.1</td>\n",
              "      <td>NO</td>\n",
              "    </tr>\n",
              "    <tr>\n",
              "      <th>117</th>\n",
              "      <td>KERALA</td>\n",
              "      <td>2018</td>\n",
              "      <td>29.1</td>\n",
              "      <td>52.1</td>\n",
              "      <td>48.6</td>\n",
              "      <td>116.4</td>\n",
              "      <td>183.8</td>\n",
              "      <td>625.4</td>\n",
              "      <td>1048.5</td>\n",
              "      <td>1398.9</td>\n",
              "      <td>423.6</td>\n",
              "      <td>356.1</td>\n",
              "      <td>125.4</td>\n",
              "      <td>65.1</td>\n",
              "      <td>4473.0</td>\n",
              "      <td>YES</td>\n",
              "    </tr>\n",
              "  </tbody>\n",
              "</table>\n",
              "</div>"
            ],
            "text/plain": [
              "    SUBDIVISION  YEAR   JAN   FEB   MAR    APR    MAY    JUN     JUL     AUG  \\\n",
              "113      KERALA  2014   4.6  10.3  17.9   95.7  251.0  454.4   677.8   733.9   \n",
              "114      KERALA  2015   3.1   5.8  50.1  214.1  201.8  563.6   406.0   252.2   \n",
              "115      KERALA  2016   2.4   3.8  35.9  143.0  186.4  522.2   412.3   325.5   \n",
              "116     KERALA   2017   1.9   6.8   8.9   43.6  173.5  498.5   319.6   531.8   \n",
              "117      KERALA  2018  29.1  52.1  48.6  116.4  183.8  625.4  1048.5  1398.9   \n",
              "\n",
              "       SEP    OCT    NOV   DEC   ANNUAL RAINFALL FLOODS  \n",
              "113  298.8  355.5   99.5  47.2            3046.4    YES  \n",
              "114  292.9  308.1  223.6  79.4            2600.6     NO  \n",
              "115  173.2  225.9  125.4  23.6            2176.6     NO  \n",
              "116  209.5  192.4   92.5  38.1            2117.1     NO  \n",
              "117  423.6  356.1  125.4  65.1            4473.0    YES  "
            ]
          },
          "metadata": {
            "tags": []
          },
          "execution_count": 11
        }
      ]
    },
    {
      "cell_type": "markdown",
      "metadata": {
        "id": "4a2c049f"
      },
      "source": [
        "# Finding number of missing values"
      ],
      "id": "4a2c049f"
    },
    {
      "cell_type": "code",
      "metadata": {
        "id": "524a46d0",
        "outputId": "24b0b847-32bf-460b-ecb9-b9dc28cd82e1"
      },
      "source": [
        "data.isnull().sum()"
      ],
      "id": "524a46d0",
      "execution_count": null,
      "outputs": [
        {
          "output_type": "execute_result",
          "data": {
            "text/plain": [
              "SUBDIVISION         0\n",
              "YEAR                0\n",
              "JAN                 0\n",
              "FEB                 0\n",
              "MAR                 0\n",
              "APR                 0\n",
              "MAY                 0\n",
              "JUN                 0\n",
              "JUL                 0\n",
              "AUG                 0\n",
              "SEP                 0\n",
              "OCT                 0\n",
              "NOV                 0\n",
              "DEC                 0\n",
              " ANNUAL RAINFALL    0\n",
              "FLOODS              0\n",
              "dtype: int64"
            ]
          },
          "metadata": {
            "tags": []
          },
          "execution_count": 12
        }
      ]
    },
    {
      "cell_type": "markdown",
      "metadata": {
        "id": "bddd57b4"
      },
      "source": [
        "# Analyzing the Dataset"
      ],
      "id": "bddd57b4"
    },
    {
      "cell_type": "code",
      "metadata": {
        "id": "f15637be",
        "outputId": "c191ca79-01ec-40ff-d3d2-6d8fcda19e40"
      },
      "source": [
        "print(data.shape)"
      ],
      "id": "f15637be",
      "execution_count": null,
      "outputs": [
        {
          "output_type": "stream",
          "text": [
            "(118, 16)\n"
          ],
          "name": "stdout"
        }
      ]
    },
    {
      "cell_type": "code",
      "metadata": {
        "id": "d8aff57a",
        "outputId": "d5f7f5e2-46a0-4ac8-bacc-0ef4513eb363"
      },
      "source": [
        "data.describe()"
      ],
      "id": "d8aff57a",
      "execution_count": null,
      "outputs": [
        {
          "output_type": "execute_result",
          "data": {
            "text/html": [
              "<div>\n",
              "<style scoped>\n",
              "    .dataframe tbody tr th:only-of-type {\n",
              "        vertical-align: middle;\n",
              "    }\n",
              "\n",
              "    .dataframe tbody tr th {\n",
              "        vertical-align: top;\n",
              "    }\n",
              "\n",
              "    .dataframe thead th {\n",
              "        text-align: right;\n",
              "    }\n",
              "</style>\n",
              "<table border=\"1\" class=\"dataframe\">\n",
              "  <thead>\n",
              "    <tr style=\"text-align: right;\">\n",
              "      <th></th>\n",
              "      <th>YEAR</th>\n",
              "      <th>JAN</th>\n",
              "      <th>FEB</th>\n",
              "      <th>MAR</th>\n",
              "      <th>APR</th>\n",
              "      <th>MAY</th>\n",
              "      <th>JUN</th>\n",
              "      <th>JUL</th>\n",
              "      <th>AUG</th>\n",
              "      <th>SEP</th>\n",
              "      <th>OCT</th>\n",
              "      <th>NOV</th>\n",
              "      <th>DEC</th>\n",
              "      <th>ANNUAL RAINFALL</th>\n",
              "    </tr>\n",
              "  </thead>\n",
              "  <tbody>\n",
              "    <tr>\n",
              "      <th>count</th>\n",
              "      <td>118.000000</td>\n",
              "      <td>118.000000</td>\n",
              "      <td>118.000000</td>\n",
              "      <td>118.000000</td>\n",
              "      <td>118.000000</td>\n",
              "      <td>118.000000</td>\n",
              "      <td>118.000000</td>\n",
              "      <td>118.000000</td>\n",
              "      <td>118.000000</td>\n",
              "      <td>118.000000</td>\n",
              "      <td>118.000000</td>\n",
              "      <td>118.000000</td>\n",
              "      <td>118.000000</td>\n",
              "      <td>118.000000</td>\n",
              "    </tr>\n",
              "    <tr>\n",
              "      <th>mean</th>\n",
              "      <td>1959.500000</td>\n",
              "      <td>12.218644</td>\n",
              "      <td>15.633898</td>\n",
              "      <td>36.670339</td>\n",
              "      <td>110.330508</td>\n",
              "      <td>228.644915</td>\n",
              "      <td>651.617797</td>\n",
              "      <td>698.220339</td>\n",
              "      <td>430.369492</td>\n",
              "      <td>246.207627</td>\n",
              "      <td>293.207627</td>\n",
              "      <td>162.311017</td>\n",
              "      <td>40.009322</td>\n",
              "      <td>2925.405085</td>\n",
              "    </tr>\n",
              "    <tr>\n",
              "      <th>std</th>\n",
              "      <td>34.207699</td>\n",
              "      <td>15.473766</td>\n",
              "      <td>16.406290</td>\n",
              "      <td>30.063862</td>\n",
              "      <td>44.633452</td>\n",
              "      <td>147.548778</td>\n",
              "      <td>186.181363</td>\n",
              "      <td>228.988966</td>\n",
              "      <td>181.980463</td>\n",
              "      <td>121.901131</td>\n",
              "      <td>93.705253</td>\n",
              "      <td>83.200485</td>\n",
              "      <td>36.676330</td>\n",
              "      <td>452.169407</td>\n",
              "    </tr>\n",
              "    <tr>\n",
              "      <th>min</th>\n",
              "      <td>1901.000000</td>\n",
              "      <td>0.000000</td>\n",
              "      <td>0.000000</td>\n",
              "      <td>0.100000</td>\n",
              "      <td>13.100000</td>\n",
              "      <td>53.400000</td>\n",
              "      <td>196.800000</td>\n",
              "      <td>167.500000</td>\n",
              "      <td>178.600000</td>\n",
              "      <td>41.300000</td>\n",
              "      <td>68.500000</td>\n",
              "      <td>31.500000</td>\n",
              "      <td>0.100000</td>\n",
              "      <td>2068.800000</td>\n",
              "    </tr>\n",
              "    <tr>\n",
              "      <th>25%</th>\n",
              "      <td>1930.250000</td>\n",
              "      <td>2.175000</td>\n",
              "      <td>4.700000</td>\n",
              "      <td>18.100000</td>\n",
              "      <td>74.350000</td>\n",
              "      <td>125.050000</td>\n",
              "      <td>535.550000</td>\n",
              "      <td>533.200000</td>\n",
              "      <td>316.725000</td>\n",
              "      <td>155.425000</td>\n",
              "      <td>222.125000</td>\n",
              "      <td>93.025000</td>\n",
              "      <td>10.350000</td>\n",
              "      <td>2613.525000</td>\n",
              "    </tr>\n",
              "    <tr>\n",
              "      <th>50%</th>\n",
              "      <td>1959.500000</td>\n",
              "      <td>5.800000</td>\n",
              "      <td>8.350000</td>\n",
              "      <td>28.400000</td>\n",
              "      <td>110.400000</td>\n",
              "      <td>184.600000</td>\n",
              "      <td>625.600000</td>\n",
              "      <td>691.650000</td>\n",
              "      <td>386.250000</td>\n",
              "      <td>223.550000</td>\n",
              "      <td>284.300000</td>\n",
              "      <td>152.450000</td>\n",
              "      <td>31.100000</td>\n",
              "      <td>2934.300000</td>\n",
              "    </tr>\n",
              "    <tr>\n",
              "      <th>75%</th>\n",
              "      <td>1988.750000</td>\n",
              "      <td>18.175000</td>\n",
              "      <td>21.400000</td>\n",
              "      <td>49.825000</td>\n",
              "      <td>136.450000</td>\n",
              "      <td>264.875000</td>\n",
              "      <td>786.975000</td>\n",
              "      <td>832.425000</td>\n",
              "      <td>500.100000</td>\n",
              "      <td>334.500000</td>\n",
              "      <td>355.150000</td>\n",
              "      <td>218.325000</td>\n",
              "      <td>54.025000</td>\n",
              "      <td>3170.400000</td>\n",
              "    </tr>\n",
              "    <tr>\n",
              "      <th>max</th>\n",
              "      <td>2018.000000</td>\n",
              "      <td>83.500000</td>\n",
              "      <td>79.000000</td>\n",
              "      <td>217.200000</td>\n",
              "      <td>238.000000</td>\n",
              "      <td>738.800000</td>\n",
              "      <td>1098.200000</td>\n",
              "      <td>1526.500000</td>\n",
              "      <td>1398.900000</td>\n",
              "      <td>526.700000</td>\n",
              "      <td>567.900000</td>\n",
              "      <td>365.600000</td>\n",
              "      <td>202.300000</td>\n",
              "      <td>4473.000000</td>\n",
              "    </tr>\n",
              "  </tbody>\n",
              "</table>\n",
              "</div>"
            ],
            "text/plain": [
              "              YEAR         JAN         FEB         MAR         APR  \\\n",
              "count   118.000000  118.000000  118.000000  118.000000  118.000000   \n",
              "mean   1959.500000   12.218644   15.633898   36.670339  110.330508   \n",
              "std      34.207699   15.473766   16.406290   30.063862   44.633452   \n",
              "min    1901.000000    0.000000    0.000000    0.100000   13.100000   \n",
              "25%    1930.250000    2.175000    4.700000   18.100000   74.350000   \n",
              "50%    1959.500000    5.800000    8.350000   28.400000  110.400000   \n",
              "75%    1988.750000   18.175000   21.400000   49.825000  136.450000   \n",
              "max    2018.000000   83.500000   79.000000  217.200000  238.000000   \n",
              "\n",
              "              MAY          JUN          JUL          AUG         SEP  \\\n",
              "count  118.000000   118.000000   118.000000   118.000000  118.000000   \n",
              "mean   228.644915   651.617797   698.220339   430.369492  246.207627   \n",
              "std    147.548778   186.181363   228.988966   181.980463  121.901131   \n",
              "min     53.400000   196.800000   167.500000   178.600000   41.300000   \n",
              "25%    125.050000   535.550000   533.200000   316.725000  155.425000   \n",
              "50%    184.600000   625.600000   691.650000   386.250000  223.550000   \n",
              "75%    264.875000   786.975000   832.425000   500.100000  334.500000   \n",
              "max    738.800000  1098.200000  1526.500000  1398.900000  526.700000   \n",
              "\n",
              "              OCT         NOV         DEC   ANNUAL RAINFALL  \n",
              "count  118.000000  118.000000  118.000000        118.000000  \n",
              "mean   293.207627  162.311017   40.009322       2925.405085  \n",
              "std     93.705253   83.200485   36.676330        452.169407  \n",
              "min     68.500000   31.500000    0.100000       2068.800000  \n",
              "25%    222.125000   93.025000   10.350000       2613.525000  \n",
              "50%    284.300000  152.450000   31.100000       2934.300000  \n",
              "75%    355.150000  218.325000   54.025000       3170.400000  \n",
              "max    567.900000  365.600000  202.300000       4473.000000  "
            ]
          },
          "metadata": {
            "tags": []
          },
          "execution_count": 14
        }
      ]
    },
    {
      "cell_type": "code",
      "metadata": {
        "id": "d70463d1",
        "outputId": "b905277e-087f-473a-a70f-272969b82daf"
      },
      "source": [
        "data.info"
      ],
      "id": "d70463d1",
      "execution_count": null,
      "outputs": [
        {
          "output_type": "execute_result",
          "data": {
            "text/plain": [
              "<bound method DataFrame.info of     SUBDIVISION  YEAR   JAN   FEB   MAR    APR    MAY     JUN     JUL     AUG  \\\n",
              "0        KERALA  1901  28.7  44.7  51.6  160.0  174.7   824.6   743.0   357.5   \n",
              "1        KERALA  1902   6.7   2.6  57.3   83.9  134.5   390.9  1205.0   315.8   \n",
              "2        KERALA  1903   3.2  18.6   3.1   83.6  249.7   558.6  1022.5   420.2   \n",
              "3        KERALA  1904  23.7   3.0  32.2   71.5  235.7  1098.2   725.5   351.8   \n",
              "4        KERALA  1905   1.2  22.3   9.4  105.9  263.3   850.2   520.5   293.6   \n",
              "..          ...   ...   ...   ...   ...    ...    ...     ...     ...     ...   \n",
              "113      KERALA  2014   4.6  10.3  17.9   95.7  251.0   454.4   677.8   733.9   \n",
              "114      KERALA  2015   3.1   5.8  50.1  214.1  201.8   563.6   406.0   252.2   \n",
              "115      KERALA  2016   2.4   3.8  35.9  143.0  186.4   522.2   412.3   325.5   \n",
              "116     KERALA   2017   1.9   6.8   8.9   43.6  173.5   498.5   319.6   531.8   \n",
              "117      KERALA  2018  29.1  52.1  48.6  116.4  183.8   625.4  1048.5  1398.9   \n",
              "\n",
              "       SEP    OCT    NOV    DEC   ANNUAL RAINFALL FLOODS  \n",
              "0    197.7  266.9  350.8   48.4            3248.6    YES  \n",
              "1    491.6  358.4  158.3  121.5            3326.6    YES  \n",
              "2    341.8  354.1  157.0   59.0            3271.2    YES  \n",
              "3    222.7  328.1   33.9    3.3            3129.7    YES  \n",
              "4    217.2  383.5   74.4    0.2            2741.6     NO  \n",
              "..     ...    ...    ...    ...               ...    ...  \n",
              "113  298.8  355.5   99.5   47.2            3046.4    YES  \n",
              "114  292.9  308.1  223.6   79.4            2600.6     NO  \n",
              "115  173.2  225.9  125.4   23.6            2176.6     NO  \n",
              "116  209.5  192.4   92.5   38.1            2117.1     NO  \n",
              "117  423.6  356.1  125.4   65.1            4473.0    YES  \n",
              "\n",
              "[118 rows x 16 columns]>"
            ]
          },
          "metadata": {
            "tags": []
          },
          "execution_count": 15
        }
      ]
    },
    {
      "cell_type": "code",
      "metadata": {
        "id": "f8f9fd14",
        "outputId": "97d33fa6-481e-42af-801b-1be05374ad4a"
      },
      "source": [
        "data.cov()"
      ],
      "id": "f8f9fd14",
      "execution_count": null,
      "outputs": [
        {
          "output_type": "execute_result",
          "data": {
            "text/html": [
              "<div>\n",
              "<style scoped>\n",
              "    .dataframe tbody tr th:only-of-type {\n",
              "        vertical-align: middle;\n",
              "    }\n",
              "\n",
              "    .dataframe tbody tr th {\n",
              "        vertical-align: top;\n",
              "    }\n",
              "\n",
              "    .dataframe thead th {\n",
              "        text-align: right;\n",
              "    }\n",
              "</style>\n",
              "<table border=\"1\" class=\"dataframe\">\n",
              "  <thead>\n",
              "    <tr style=\"text-align: right;\">\n",
              "      <th></th>\n",
              "      <th>YEAR</th>\n",
              "      <th>JAN</th>\n",
              "      <th>FEB</th>\n",
              "      <th>MAR</th>\n",
              "      <th>APR</th>\n",
              "      <th>MAY</th>\n",
              "      <th>JUN</th>\n",
              "      <th>JUL</th>\n",
              "      <th>AUG</th>\n",
              "      <th>SEP</th>\n",
              "      <th>OCT</th>\n",
              "      <th>NOV</th>\n",
              "      <th>DEC</th>\n",
              "      <th>ANNUAL RAINFALL</th>\n",
              "    </tr>\n",
              "  </thead>\n",
              "  <tbody>\n",
              "    <tr>\n",
              "      <th>YEAR</th>\n",
              "      <td>1170.166667</td>\n",
              "      <td>-119.378632</td>\n",
              "      <td>2.176923</td>\n",
              "      <td>-13.207265</td>\n",
              "      <td>132.625641</td>\n",
              "      <td>-301.126068</td>\n",
              "      <td>-1114.149145</td>\n",
              "      <td>-1749.953846</td>\n",
              "      <td>274.983761</td>\n",
              "      <td>448.915812</td>\n",
              "      <td>-96.876496</td>\n",
              "      <td>-370.360256</td>\n",
              "      <td>-155.123504</td>\n",
              "      <td>-3063.344444</td>\n",
              "    </tr>\n",
              "    <tr>\n",
              "      <th>JAN</th>\n",
              "      <td>-119.378632</td>\n",
              "      <td>239.437427</td>\n",
              "      <td>4.979192</td>\n",
              "      <td>36.577053</td>\n",
              "      <td>24.039512</td>\n",
              "      <td>163.062403</td>\n",
              "      <td>545.574281</td>\n",
              "      <td>121.970900</td>\n",
              "      <td>24.434163</td>\n",
              "      <td>-214.094844</td>\n",
              "      <td>-50.812451</td>\n",
              "      <td>-14.205421</td>\n",
              "      <td>-50.968209</td>\n",
              "      <td>830.154092</td>\n",
              "    </tr>\n",
              "    <tr>\n",
              "      <th>FEB</th>\n",
              "      <td>2.176923</td>\n",
              "      <td>4.979192</td>\n",
              "      <td>269.166362</td>\n",
              "      <td>121.027766</td>\n",
              "      <td>90.585966</td>\n",
              "      <td>-202.129655</td>\n",
              "      <td>165.293580</td>\n",
              "      <td>21.748364</td>\n",
              "      <td>69.442838</td>\n",
              "      <td>132.629654</td>\n",
              "      <td>81.684355</td>\n",
              "      <td>-222.332684</td>\n",
              "      <td>-76.434079</td>\n",
              "      <td>455.913330</td>\n",
              "    </tr>\n",
              "    <tr>\n",
              "      <th>MAR</th>\n",
              "      <td>-13.207265</td>\n",
              "      <td>36.577053</td>\n",
              "      <td>121.027766</td>\n",
              "      <td>903.835779</td>\n",
              "      <td>99.315784</td>\n",
              "      <td>-456.721990</td>\n",
              "      <td>106.348567</td>\n",
              "      <td>126.186249</td>\n",
              "      <td>232.033874</td>\n",
              "      <td>527.184758</td>\n",
              "      <td>-64.980285</td>\n",
              "      <td>-81.573089</td>\n",
              "      <td>28.990108</td>\n",
              "      <td>1578.305793</td>\n",
              "    </tr>\n",
              "    <tr>\n",
              "      <th>APR</th>\n",
              "      <td>132.625641</td>\n",
              "      <td>24.039512</td>\n",
              "      <td>90.585966</td>\n",
              "      <td>99.315784</td>\n",
              "      <td>1992.145044</td>\n",
              "      <td>-754.490185</td>\n",
              "      <td>606.540393</td>\n",
              "      <td>153.070058</td>\n",
              "      <td>-388.591540</td>\n",
              "      <td>70.336859</td>\n",
              "      <td>473.330962</td>\n",
              "      <td>82.464276</td>\n",
              "      <td>-180.710372</td>\n",
              "      <td>2267.590185</td>\n",
              "    </tr>\n",
              "    <tr>\n",
              "      <th>MAY</th>\n",
              "      <td>-301.126068</td>\n",
              "      <td>163.062403</td>\n",
              "      <td>-202.129655</td>\n",
              "      <td>-456.721990</td>\n",
              "      <td>-754.490185</td>\n",
              "      <td>21770.641812</td>\n",
              "      <td>33.929279</td>\n",
              "      <td>-1571.703571</td>\n",
              "      <td>-3340.586652</td>\n",
              "      <td>2101.892304</td>\n",
              "      <td>2725.149056</td>\n",
              "      <td>1165.417193</td>\n",
              "      <td>-638.978371</td>\n",
              "      <td>20997.420795</td>\n",
              "    </tr>\n",
              "    <tr>\n",
              "      <th>JUN</th>\n",
              "      <td>-1114.149145</td>\n",
              "      <td>545.574281</td>\n",
              "      <td>165.293580</td>\n",
              "      <td>106.348567</td>\n",
              "      <td>606.540393</td>\n",
              "      <td>33.929279</td>\n",
              "      <td>34663.499937</td>\n",
              "      <td>4047.567071</td>\n",
              "      <td>-492.944239</td>\n",
              "      <td>-1194.576633</td>\n",
              "      <td>20.161145</td>\n",
              "      <td>247.329460</td>\n",
              "      <td>-581.699654</td>\n",
              "      <td>38170.332986</td>\n",
              "    </tr>\n",
              "    <tr>\n",
              "      <th>JUL</th>\n",
              "      <td>-1749.953846</td>\n",
              "      <td>121.970900</td>\n",
              "      <td>21.748364</td>\n",
              "      <td>126.186249</td>\n",
              "      <td>153.070058</td>\n",
              "      <td>-1571.703571</td>\n",
              "      <td>4047.567071</td>\n",
              "      <td>52435.946420</td>\n",
              "      <td>6436.876865</td>\n",
              "      <td>5846.347194</td>\n",
              "      <td>541.214459</td>\n",
              "      <td>-543.479371</td>\n",
              "      <td>-113.988396</td>\n",
              "      <td>67508.201520</td>\n",
              "    </tr>\n",
              "    <tr>\n",
              "      <th>AUG</th>\n",
              "      <td>274.983761</td>\n",
              "      <td>24.434163</td>\n",
              "      <td>69.442838</td>\n",
              "      <td>232.033874</td>\n",
              "      <td>-388.591540</td>\n",
              "      <td>-3340.586652</td>\n",
              "      <td>-492.944239</td>\n",
              "      <td>6436.876865</td>\n",
              "      <td>33116.888805</td>\n",
              "      <td>2178.762799</td>\n",
              "      <td>-3094.959423</td>\n",
              "      <td>-1706.808293</td>\n",
              "      <td>948.365073</td>\n",
              "      <td>33987.052721</td>\n",
              "    </tr>\n",
              "    <tr>\n",
              "      <th>SEP</th>\n",
              "      <td>448.915812</td>\n",
              "      <td>-214.094844</td>\n",
              "      <td>132.629654</td>\n",
              "      <td>527.184758</td>\n",
              "      <td>70.336859</td>\n",
              "      <td>2101.892304</td>\n",
              "      <td>-1194.576633</td>\n",
              "      <td>5846.347194</td>\n",
              "      <td>2178.762799</td>\n",
              "      <td>14859.885839</td>\n",
              "      <td>-369.500828</td>\n",
              "      <td>-280.077350</td>\n",
              "      <td>-49.210243</td>\n",
              "      <td>23610.285602</td>\n",
              "    </tr>\n",
              "    <tr>\n",
              "      <th>OCT</th>\n",
              "      <td>-96.876496</td>\n",
              "      <td>-50.812451</td>\n",
              "      <td>81.684355</td>\n",
              "      <td>-64.980285</td>\n",
              "      <td>473.330962</td>\n",
              "      <td>2725.149056</td>\n",
              "      <td>20.161145</td>\n",
              "      <td>541.214459</td>\n",
              "      <td>-3094.959423</td>\n",
              "      <td>-369.500828</td>\n",
              "      <td>8780.674386</td>\n",
              "      <td>-187.580256</td>\n",
              "      <td>-134.262978</td>\n",
              "      <td>8722.467910</td>\n",
              "    </tr>\n",
              "    <tr>\n",
              "      <th>NOV</th>\n",
              "      <td>-370.360256</td>\n",
              "      <td>-14.205421</td>\n",
              "      <td>-222.332684</td>\n",
              "      <td>-81.573089</td>\n",
              "      <td>82.464276</td>\n",
              "      <td>1165.417193</td>\n",
              "      <td>247.329460</td>\n",
              "      <td>-543.479371</td>\n",
              "      <td>-1706.808293</td>\n",
              "      <td>-280.077350</td>\n",
              "      <td>-187.580256</td>\n",
              "      <td>6922.320647</td>\n",
              "      <td>215.801948</td>\n",
              "      <td>5597.319516</td>\n",
              "    </tr>\n",
              "    <tr>\n",
              "      <th>DEC</th>\n",
              "      <td>-155.123504</td>\n",
              "      <td>-50.968209</td>\n",
              "      <td>-76.434079</td>\n",
              "      <td>28.990108</td>\n",
              "      <td>-180.710372</td>\n",
              "      <td>-638.978371</td>\n",
              "      <td>-581.699654</td>\n",
              "      <td>-113.988396</td>\n",
              "      <td>948.365073</td>\n",
              "      <td>-49.210243</td>\n",
              "      <td>-134.262978</td>\n",
              "      <td>215.801948</td>\n",
              "      <td>1345.153160</td>\n",
              "      <td>712.560721</td>\n",
              "    </tr>\n",
              "    <tr>\n",
              "      <th>ANNUAL RAINFALL</th>\n",
              "      <td>-3063.344444</td>\n",
              "      <td>830.154092</td>\n",
              "      <td>455.913330</td>\n",
              "      <td>1578.305793</td>\n",
              "      <td>2267.590185</td>\n",
              "      <td>20997.420795</td>\n",
              "      <td>38170.332986</td>\n",
              "      <td>67508.201520</td>\n",
              "      <td>33987.052721</td>\n",
              "      <td>23610.285602</td>\n",
              "      <td>8722.467910</td>\n",
              "      <td>5597.319516</td>\n",
              "      <td>712.560721</td>\n",
              "      <td>204457.172453</td>\n",
              "    </tr>\n",
              "  </tbody>\n",
              "</table>\n",
              "</div>"
            ],
            "text/plain": [
              "                         YEAR         JAN         FEB          MAR  \\\n",
              "YEAR              1170.166667 -119.378632    2.176923   -13.207265   \n",
              "JAN               -119.378632  239.437427    4.979192    36.577053   \n",
              "FEB                  2.176923    4.979192  269.166362   121.027766   \n",
              "MAR                -13.207265   36.577053  121.027766   903.835779   \n",
              "APR                132.625641   24.039512   90.585966    99.315784   \n",
              "MAY               -301.126068  163.062403 -202.129655  -456.721990   \n",
              "JUN              -1114.149145  545.574281  165.293580   106.348567   \n",
              "JUL              -1749.953846  121.970900   21.748364   126.186249   \n",
              "AUG                274.983761   24.434163   69.442838   232.033874   \n",
              "SEP                448.915812 -214.094844  132.629654   527.184758   \n",
              "OCT                -96.876496  -50.812451   81.684355   -64.980285   \n",
              "NOV               -370.360256  -14.205421 -222.332684   -81.573089   \n",
              "DEC               -155.123504  -50.968209  -76.434079    28.990108   \n",
              " ANNUAL RAINFALL -3063.344444  830.154092  455.913330  1578.305793   \n",
              "\n",
              "                          APR           MAY           JUN           JUL  \\\n",
              "YEAR               132.625641   -301.126068  -1114.149145  -1749.953846   \n",
              "JAN                 24.039512    163.062403    545.574281    121.970900   \n",
              "FEB                 90.585966   -202.129655    165.293580     21.748364   \n",
              "MAR                 99.315784   -456.721990    106.348567    126.186249   \n",
              "APR               1992.145044   -754.490185    606.540393    153.070058   \n",
              "MAY               -754.490185  21770.641812     33.929279  -1571.703571   \n",
              "JUN                606.540393     33.929279  34663.499937   4047.567071   \n",
              "JUL                153.070058  -1571.703571   4047.567071  52435.946420   \n",
              "AUG               -388.591540  -3340.586652   -492.944239   6436.876865   \n",
              "SEP                 70.336859   2101.892304  -1194.576633   5846.347194   \n",
              "OCT                473.330962   2725.149056     20.161145    541.214459   \n",
              "NOV                 82.464276   1165.417193    247.329460   -543.479371   \n",
              "DEC               -180.710372   -638.978371   -581.699654   -113.988396   \n",
              " ANNUAL RAINFALL  2267.590185  20997.420795  38170.332986  67508.201520   \n",
              "\n",
              "                           AUG           SEP          OCT          NOV  \\\n",
              "YEAR                274.983761    448.915812   -96.876496  -370.360256   \n",
              "JAN                  24.434163   -214.094844   -50.812451   -14.205421   \n",
              "FEB                  69.442838    132.629654    81.684355  -222.332684   \n",
              "MAR                 232.033874    527.184758   -64.980285   -81.573089   \n",
              "APR                -388.591540     70.336859   473.330962    82.464276   \n",
              "MAY               -3340.586652   2101.892304  2725.149056  1165.417193   \n",
              "JUN                -492.944239  -1194.576633    20.161145   247.329460   \n",
              "JUL                6436.876865   5846.347194   541.214459  -543.479371   \n",
              "AUG               33116.888805   2178.762799 -3094.959423 -1706.808293   \n",
              "SEP                2178.762799  14859.885839  -369.500828  -280.077350   \n",
              "OCT               -3094.959423   -369.500828  8780.674386  -187.580256   \n",
              "NOV               -1706.808293   -280.077350  -187.580256  6922.320647   \n",
              "DEC                 948.365073    -49.210243  -134.262978   215.801948   \n",
              " ANNUAL RAINFALL  33987.052721  23610.285602  8722.467910  5597.319516   \n",
              "\n",
              "                          DEC   ANNUAL RAINFALL  \n",
              "YEAR              -155.123504      -3063.344444  \n",
              "JAN                -50.968209        830.154092  \n",
              "FEB                -76.434079        455.913330  \n",
              "MAR                 28.990108       1578.305793  \n",
              "APR               -180.710372       2267.590185  \n",
              "MAY               -638.978371      20997.420795  \n",
              "JUN               -581.699654      38170.332986  \n",
              "JUL               -113.988396      67508.201520  \n",
              "AUG                948.365073      33987.052721  \n",
              "SEP                -49.210243      23610.285602  \n",
              "OCT               -134.262978       8722.467910  \n",
              "NOV                215.801948       5597.319516  \n",
              "DEC               1345.153160        712.560721  \n",
              " ANNUAL RAINFALL   712.560721     204457.172453  "
            ]
          },
          "metadata": {
            "tags": []
          },
          "execution_count": 17
        }
      ]
    },
    {
      "cell_type": "code",
      "metadata": {
        "id": "dd6aef63",
        "outputId": "c7c53cfa-0914-4f89-a0bf-26bfb41c0142"
      },
      "source": [
        "data.corr()"
      ],
      "id": "dd6aef63",
      "execution_count": null,
      "outputs": [
        {
          "output_type": "execute_result",
          "data": {
            "text/html": [
              "<div>\n",
              "<style scoped>\n",
              "    .dataframe tbody tr th:only-of-type {\n",
              "        vertical-align: middle;\n",
              "    }\n",
              "\n",
              "    .dataframe tbody tr th {\n",
              "        vertical-align: top;\n",
              "    }\n",
              "\n",
              "    .dataframe thead th {\n",
              "        text-align: right;\n",
              "    }\n",
              "</style>\n",
              "<table border=\"1\" class=\"dataframe\">\n",
              "  <thead>\n",
              "    <tr style=\"text-align: right;\">\n",
              "      <th></th>\n",
              "      <th>YEAR</th>\n",
              "      <th>JAN</th>\n",
              "      <th>FEB</th>\n",
              "      <th>MAR</th>\n",
              "      <th>APR</th>\n",
              "      <th>MAY</th>\n",
              "      <th>JUN</th>\n",
              "      <th>JUL</th>\n",
              "      <th>AUG</th>\n",
              "      <th>SEP</th>\n",
              "      <th>OCT</th>\n",
              "      <th>NOV</th>\n",
              "      <th>DEC</th>\n",
              "      <th>ANNUAL RAINFALL</th>\n",
              "    </tr>\n",
              "  </thead>\n",
              "  <tbody>\n",
              "    <tr>\n",
              "      <th>YEAR</th>\n",
              "      <td>1.000000</td>\n",
              "      <td>-0.225531</td>\n",
              "      <td>0.003879</td>\n",
              "      <td>-0.012842</td>\n",
              "      <td>0.086865</td>\n",
              "      <td>-0.059661</td>\n",
              "      <td>-0.174938</td>\n",
              "      <td>-0.223403</td>\n",
              "      <td>0.044173</td>\n",
              "      <td>0.107655</td>\n",
              "      <td>-0.030223</td>\n",
              "      <td>-0.130129</td>\n",
              "      <td>-0.123643</td>\n",
              "      <td>-0.198048</td>\n",
              "    </tr>\n",
              "    <tr>\n",
              "      <th>JAN</th>\n",
              "      <td>-0.225531</td>\n",
              "      <td>1.000000</td>\n",
              "      <td>0.019613</td>\n",
              "      <td>0.078626</td>\n",
              "      <td>0.034807</td>\n",
              "      <td>0.071420</td>\n",
              "      <td>0.189375</td>\n",
              "      <td>0.034423</td>\n",
              "      <td>0.008677</td>\n",
              "      <td>-0.113502</td>\n",
              "      <td>-0.035044</td>\n",
              "      <td>-0.011034</td>\n",
              "      <td>-0.089809</td>\n",
              "      <td>0.118648</td>\n",
              "    </tr>\n",
              "    <tr>\n",
              "      <th>FEB</th>\n",
              "      <td>0.003879</td>\n",
              "      <td>0.019613</td>\n",
              "      <td>1.000000</td>\n",
              "      <td>0.245375</td>\n",
              "      <td>0.123706</td>\n",
              "      <td>-0.083500</td>\n",
              "      <td>0.054114</td>\n",
              "      <td>0.005789</td>\n",
              "      <td>0.023259</td>\n",
              "      <td>0.066317</td>\n",
              "      <td>0.053133</td>\n",
              "      <td>-0.162880</td>\n",
              "      <td>-0.127025</td>\n",
              "      <td>0.061457</td>\n",
              "    </tr>\n",
              "    <tr>\n",
              "      <th>MAR</th>\n",
              "      <td>-0.012842</td>\n",
              "      <td>0.078626</td>\n",
              "      <td>0.245375</td>\n",
              "      <td>1.000000</td>\n",
              "      <td>0.074014</td>\n",
              "      <td>-0.102961</td>\n",
              "      <td>0.019000</td>\n",
              "      <td>0.018330</td>\n",
              "      <td>0.042411</td>\n",
              "      <td>0.143850</td>\n",
              "      <td>-0.023066</td>\n",
              "      <td>-0.032612</td>\n",
              "      <td>0.026292</td>\n",
              "      <td>0.116103</td>\n",
              "    </tr>\n",
              "    <tr>\n",
              "      <th>APR</th>\n",
              "      <td>0.086865</td>\n",
              "      <td>0.034807</td>\n",
              "      <td>0.123706</td>\n",
              "      <td>0.074014</td>\n",
              "      <td>1.000000</td>\n",
              "      <td>-0.114566</td>\n",
              "      <td>0.072990</td>\n",
              "      <td>0.014977</td>\n",
              "      <td>-0.047842</td>\n",
              "      <td>0.012928</td>\n",
              "      <td>0.113172</td>\n",
              "      <td>0.022206</td>\n",
              "      <td>-0.110392</td>\n",
              "      <td>0.112358</td>\n",
              "    </tr>\n",
              "    <tr>\n",
              "      <th>MAY</th>\n",
              "      <td>-0.059661</td>\n",
              "      <td>0.071420</td>\n",
              "      <td>-0.083500</td>\n",
              "      <td>-0.102961</td>\n",
              "      <td>-0.114566</td>\n",
              "      <td>1.000000</td>\n",
              "      <td>0.001235</td>\n",
              "      <td>-0.046518</td>\n",
              "      <td>-0.124412</td>\n",
              "      <td>0.116860</td>\n",
              "      <td>0.197102</td>\n",
              "      <td>0.094934</td>\n",
              "      <td>-0.118077</td>\n",
              "      <td>0.314723</td>\n",
              "    </tr>\n",
              "    <tr>\n",
              "      <th>JUN</th>\n",
              "      <td>-0.174938</td>\n",
              "      <td>0.189375</td>\n",
              "      <td>0.054114</td>\n",
              "      <td>0.019000</td>\n",
              "      <td>0.072990</td>\n",
              "      <td>0.001235</td>\n",
              "      <td>1.000000</td>\n",
              "      <td>0.094939</td>\n",
              "      <td>-0.014549</td>\n",
              "      <td>-0.052634</td>\n",
              "      <td>0.001156</td>\n",
              "      <td>0.015967</td>\n",
              "      <td>-0.085188</td>\n",
              "      <td>0.453407</td>\n",
              "    </tr>\n",
              "    <tr>\n",
              "      <th>JUL</th>\n",
              "      <td>-0.223403</td>\n",
              "      <td>0.034423</td>\n",
              "      <td>0.005789</td>\n",
              "      <td>0.018330</td>\n",
              "      <td>0.014977</td>\n",
              "      <td>-0.046518</td>\n",
              "      <td>0.094939</td>\n",
              "      <td>1.000000</td>\n",
              "      <td>0.154467</td>\n",
              "      <td>0.209441</td>\n",
              "      <td>0.025223</td>\n",
              "      <td>-0.028526</td>\n",
              "      <td>-0.013573</td>\n",
              "      <td>0.651990</td>\n",
              "    </tr>\n",
              "    <tr>\n",
              "      <th>AUG</th>\n",
              "      <td>0.044173</td>\n",
              "      <td>0.008677</td>\n",
              "      <td>0.023259</td>\n",
              "      <td>0.042411</td>\n",
              "      <td>-0.047842</td>\n",
              "      <td>-0.124412</td>\n",
              "      <td>-0.014549</td>\n",
              "      <td>0.154467</td>\n",
              "      <td>1.000000</td>\n",
              "      <td>0.098215</td>\n",
              "      <td>-0.181496</td>\n",
              "      <td>-0.112729</td>\n",
              "      <td>0.142090</td>\n",
              "      <td>0.413036</td>\n",
              "    </tr>\n",
              "    <tr>\n",
              "      <th>SEP</th>\n",
              "      <td>0.107655</td>\n",
              "      <td>-0.113502</td>\n",
              "      <td>0.066317</td>\n",
              "      <td>0.143850</td>\n",
              "      <td>0.012928</td>\n",
              "      <td>0.116860</td>\n",
              "      <td>-0.052634</td>\n",
              "      <td>0.209441</td>\n",
              "      <td>0.098215</td>\n",
              "      <td>1.000000</td>\n",
              "      <td>-0.032348</td>\n",
              "      <td>-0.027615</td>\n",
              "      <td>-0.011007</td>\n",
              "      <td>0.428344</td>\n",
              "    </tr>\n",
              "    <tr>\n",
              "      <th>OCT</th>\n",
              "      <td>-0.030223</td>\n",
              "      <td>-0.035044</td>\n",
              "      <td>0.053133</td>\n",
              "      <td>-0.023066</td>\n",
              "      <td>0.113172</td>\n",
              "      <td>0.197102</td>\n",
              "      <td>0.001156</td>\n",
              "      <td>0.025223</td>\n",
              "      <td>-0.181496</td>\n",
              "      <td>-0.032348</td>\n",
              "      <td>1.000000</td>\n",
              "      <td>-0.024060</td>\n",
              "      <td>-0.039067</td>\n",
              "      <td>0.205861</td>\n",
              "    </tr>\n",
              "    <tr>\n",
              "      <th>NOV</th>\n",
              "      <td>-0.130129</td>\n",
              "      <td>-0.011034</td>\n",
              "      <td>-0.162880</td>\n",
              "      <td>-0.032612</td>\n",
              "      <td>0.022206</td>\n",
              "      <td>0.094934</td>\n",
              "      <td>0.015967</td>\n",
              "      <td>-0.028526</td>\n",
              "      <td>-0.112729</td>\n",
              "      <td>-0.027615</td>\n",
              "      <td>-0.024060</td>\n",
              "      <td>1.000000</td>\n",
              "      <td>0.070720</td>\n",
              "      <td>0.148783</td>\n",
              "    </tr>\n",
              "    <tr>\n",
              "      <th>DEC</th>\n",
              "      <td>-0.123643</td>\n",
              "      <td>-0.089809</td>\n",
              "      <td>-0.127025</td>\n",
              "      <td>0.026292</td>\n",
              "      <td>-0.110392</td>\n",
              "      <td>-0.118077</td>\n",
              "      <td>-0.085188</td>\n",
              "      <td>-0.013573</td>\n",
              "      <td>0.142090</td>\n",
              "      <td>-0.011007</td>\n",
              "      <td>-0.039067</td>\n",
              "      <td>0.070720</td>\n",
              "      <td>1.000000</td>\n",
              "      <td>0.042967</td>\n",
              "    </tr>\n",
              "    <tr>\n",
              "      <th>ANNUAL RAINFALL</th>\n",
              "      <td>-0.198048</td>\n",
              "      <td>0.118648</td>\n",
              "      <td>0.061457</td>\n",
              "      <td>0.116103</td>\n",
              "      <td>0.112358</td>\n",
              "      <td>0.314723</td>\n",
              "      <td>0.453407</td>\n",
              "      <td>0.651990</td>\n",
              "      <td>0.413036</td>\n",
              "      <td>0.428344</td>\n",
              "      <td>0.205861</td>\n",
              "      <td>0.148783</td>\n",
              "      <td>0.042967</td>\n",
              "      <td>1.000000</td>\n",
              "    </tr>\n",
              "  </tbody>\n",
              "</table>\n",
              "</div>"
            ],
            "text/plain": [
              "                      YEAR       JAN       FEB       MAR       APR       MAY  \\\n",
              "YEAR              1.000000 -0.225531  0.003879 -0.012842  0.086865 -0.059661   \n",
              "JAN              -0.225531  1.000000  0.019613  0.078626  0.034807  0.071420   \n",
              "FEB               0.003879  0.019613  1.000000  0.245375  0.123706 -0.083500   \n",
              "MAR              -0.012842  0.078626  0.245375  1.000000  0.074014 -0.102961   \n",
              "APR               0.086865  0.034807  0.123706  0.074014  1.000000 -0.114566   \n",
              "MAY              -0.059661  0.071420 -0.083500 -0.102961 -0.114566  1.000000   \n",
              "JUN              -0.174938  0.189375  0.054114  0.019000  0.072990  0.001235   \n",
              "JUL              -0.223403  0.034423  0.005789  0.018330  0.014977 -0.046518   \n",
              "AUG               0.044173  0.008677  0.023259  0.042411 -0.047842 -0.124412   \n",
              "SEP               0.107655 -0.113502  0.066317  0.143850  0.012928  0.116860   \n",
              "OCT              -0.030223 -0.035044  0.053133 -0.023066  0.113172  0.197102   \n",
              "NOV              -0.130129 -0.011034 -0.162880 -0.032612  0.022206  0.094934   \n",
              "DEC              -0.123643 -0.089809 -0.127025  0.026292 -0.110392 -0.118077   \n",
              " ANNUAL RAINFALL -0.198048  0.118648  0.061457  0.116103  0.112358  0.314723   \n",
              "\n",
              "                       JUN       JUL       AUG       SEP       OCT       NOV  \\\n",
              "YEAR             -0.174938 -0.223403  0.044173  0.107655 -0.030223 -0.130129   \n",
              "JAN               0.189375  0.034423  0.008677 -0.113502 -0.035044 -0.011034   \n",
              "FEB               0.054114  0.005789  0.023259  0.066317  0.053133 -0.162880   \n",
              "MAR               0.019000  0.018330  0.042411  0.143850 -0.023066 -0.032612   \n",
              "APR               0.072990  0.014977 -0.047842  0.012928  0.113172  0.022206   \n",
              "MAY               0.001235 -0.046518 -0.124412  0.116860  0.197102  0.094934   \n",
              "JUN               1.000000  0.094939 -0.014549 -0.052634  0.001156  0.015967   \n",
              "JUL               0.094939  1.000000  0.154467  0.209441  0.025223 -0.028526   \n",
              "AUG              -0.014549  0.154467  1.000000  0.098215 -0.181496 -0.112729   \n",
              "SEP              -0.052634  0.209441  0.098215  1.000000 -0.032348 -0.027615   \n",
              "OCT               0.001156  0.025223 -0.181496 -0.032348  1.000000 -0.024060   \n",
              "NOV               0.015967 -0.028526 -0.112729 -0.027615 -0.024060  1.000000   \n",
              "DEC              -0.085188 -0.013573  0.142090 -0.011007 -0.039067  0.070720   \n",
              " ANNUAL RAINFALL  0.453407  0.651990  0.413036  0.428344  0.205861  0.148783   \n",
              "\n",
              "                       DEC   ANNUAL RAINFALL  \n",
              "YEAR             -0.123643         -0.198048  \n",
              "JAN              -0.089809          0.118648  \n",
              "FEB              -0.127025          0.061457  \n",
              "MAR               0.026292          0.116103  \n",
              "APR              -0.110392          0.112358  \n",
              "MAY              -0.118077          0.314723  \n",
              "JUN              -0.085188          0.453407  \n",
              "JUL              -0.013573          0.651990  \n",
              "AUG               0.142090          0.413036  \n",
              "SEP              -0.011007          0.428344  \n",
              "OCT              -0.039067          0.205861  \n",
              "NOV               0.070720          0.148783  \n",
              "DEC               1.000000          0.042967  \n",
              " ANNUAL RAINFALL  0.042967          1.000000  "
            ]
          },
          "metadata": {
            "tags": []
          },
          "execution_count": 18
        }
      ]
    },
    {
      "cell_type": "code",
      "metadata": {
        "id": "00391300"
      },
      "source": [
        "data['FLOODS'].replace(['YES','NO'],[1,0],inplace=True)"
      ],
      "id": "00391300",
      "execution_count": null,
      "outputs": []
    },
    {
      "cell_type": "code",
      "metadata": {
        "id": "9c0f5969",
        "outputId": "26f4efc0-55bc-4f14-c1cf-e1ea66050be6"
      },
      "source": [
        "data.head()"
      ],
      "id": "9c0f5969",
      "execution_count": null,
      "outputs": [
        {
          "output_type": "execute_result",
          "data": {
            "text/html": [
              "<div>\n",
              "<style scoped>\n",
              "    .dataframe tbody tr th:only-of-type {\n",
              "        vertical-align: middle;\n",
              "    }\n",
              "\n",
              "    .dataframe tbody tr th {\n",
              "        vertical-align: top;\n",
              "    }\n",
              "\n",
              "    .dataframe thead th {\n",
              "        text-align: right;\n",
              "    }\n",
              "</style>\n",
              "<table border=\"1\" class=\"dataframe\">\n",
              "  <thead>\n",
              "    <tr style=\"text-align: right;\">\n",
              "      <th></th>\n",
              "      <th>SUBDIVISION</th>\n",
              "      <th>YEAR</th>\n",
              "      <th>JAN</th>\n",
              "      <th>FEB</th>\n",
              "      <th>MAR</th>\n",
              "      <th>APR</th>\n",
              "      <th>MAY</th>\n",
              "      <th>JUN</th>\n",
              "      <th>JUL</th>\n",
              "      <th>AUG</th>\n",
              "      <th>SEP</th>\n",
              "      <th>OCT</th>\n",
              "      <th>NOV</th>\n",
              "      <th>DEC</th>\n",
              "      <th>ANNUAL RAINFALL</th>\n",
              "      <th>FLOODS</th>\n",
              "    </tr>\n",
              "  </thead>\n",
              "  <tbody>\n",
              "    <tr>\n",
              "      <th>0</th>\n",
              "      <td>KERALA</td>\n",
              "      <td>1901</td>\n",
              "      <td>28.7</td>\n",
              "      <td>44.7</td>\n",
              "      <td>51.6</td>\n",
              "      <td>160.0</td>\n",
              "      <td>174.7</td>\n",
              "      <td>824.6</td>\n",
              "      <td>743.0</td>\n",
              "      <td>357.5</td>\n",
              "      <td>197.7</td>\n",
              "      <td>266.9</td>\n",
              "      <td>350.8</td>\n",
              "      <td>48.4</td>\n",
              "      <td>3248.6</td>\n",
              "      <td>1</td>\n",
              "    </tr>\n",
              "    <tr>\n",
              "      <th>1</th>\n",
              "      <td>KERALA</td>\n",
              "      <td>1902</td>\n",
              "      <td>6.7</td>\n",
              "      <td>2.6</td>\n",
              "      <td>57.3</td>\n",
              "      <td>83.9</td>\n",
              "      <td>134.5</td>\n",
              "      <td>390.9</td>\n",
              "      <td>1205.0</td>\n",
              "      <td>315.8</td>\n",
              "      <td>491.6</td>\n",
              "      <td>358.4</td>\n",
              "      <td>158.3</td>\n",
              "      <td>121.5</td>\n",
              "      <td>3326.6</td>\n",
              "      <td>1</td>\n",
              "    </tr>\n",
              "    <tr>\n",
              "      <th>2</th>\n",
              "      <td>KERALA</td>\n",
              "      <td>1903</td>\n",
              "      <td>3.2</td>\n",
              "      <td>18.6</td>\n",
              "      <td>3.1</td>\n",
              "      <td>83.6</td>\n",
              "      <td>249.7</td>\n",
              "      <td>558.6</td>\n",
              "      <td>1022.5</td>\n",
              "      <td>420.2</td>\n",
              "      <td>341.8</td>\n",
              "      <td>354.1</td>\n",
              "      <td>157.0</td>\n",
              "      <td>59.0</td>\n",
              "      <td>3271.2</td>\n",
              "      <td>1</td>\n",
              "    </tr>\n",
              "    <tr>\n",
              "      <th>3</th>\n",
              "      <td>KERALA</td>\n",
              "      <td>1904</td>\n",
              "      <td>23.7</td>\n",
              "      <td>3.0</td>\n",
              "      <td>32.2</td>\n",
              "      <td>71.5</td>\n",
              "      <td>235.7</td>\n",
              "      <td>1098.2</td>\n",
              "      <td>725.5</td>\n",
              "      <td>351.8</td>\n",
              "      <td>222.7</td>\n",
              "      <td>328.1</td>\n",
              "      <td>33.9</td>\n",
              "      <td>3.3</td>\n",
              "      <td>3129.7</td>\n",
              "      <td>1</td>\n",
              "    </tr>\n",
              "    <tr>\n",
              "      <th>4</th>\n",
              "      <td>KERALA</td>\n",
              "      <td>1905</td>\n",
              "      <td>1.2</td>\n",
              "      <td>22.3</td>\n",
              "      <td>9.4</td>\n",
              "      <td>105.9</td>\n",
              "      <td>263.3</td>\n",
              "      <td>850.2</td>\n",
              "      <td>520.5</td>\n",
              "      <td>293.6</td>\n",
              "      <td>217.2</td>\n",
              "      <td>383.5</td>\n",
              "      <td>74.4</td>\n",
              "      <td>0.2</td>\n",
              "      <td>2741.6</td>\n",
              "      <td>0</td>\n",
              "    </tr>\n",
              "  </tbody>\n",
              "</table>\n",
              "</div>"
            ],
            "text/plain": [
              "  SUBDIVISION  YEAR   JAN   FEB   MAR    APR    MAY     JUN     JUL    AUG  \\\n",
              "0      KERALA  1901  28.7  44.7  51.6  160.0  174.7   824.6   743.0  357.5   \n",
              "1      KERALA  1902   6.7   2.6  57.3   83.9  134.5   390.9  1205.0  315.8   \n",
              "2      KERALA  1903   3.2  18.6   3.1   83.6  249.7   558.6  1022.5  420.2   \n",
              "3      KERALA  1904  23.7   3.0  32.2   71.5  235.7  1098.2   725.5  351.8   \n",
              "4      KERALA  1905   1.2  22.3   9.4  105.9  263.3   850.2   520.5  293.6   \n",
              "\n",
              "     SEP    OCT    NOV    DEC   ANNUAL RAINFALL  FLOODS  \n",
              "0  197.7  266.9  350.8   48.4            3248.6       1  \n",
              "1  491.6  358.4  158.3  121.5            3326.6       1  \n",
              "2  341.8  354.1  157.0   59.0            3271.2       1  \n",
              "3  222.7  328.1   33.9    3.3            3129.7       1  \n",
              "4  217.2  383.5   74.4    0.2            2741.6       0  "
            ]
          },
          "metadata": {
            "tags": []
          },
          "execution_count": 20
        }
      ]
    },
    {
      "cell_type": "code",
      "metadata": {
        "id": "c7f37e0c",
        "outputId": "558898fb-e47c-4b98-e3f7-12941ff6a7eb"
      },
      "source": [
        "x = data.iloc[:,1:14]\n",
        "x.head()"
      ],
      "id": "c7f37e0c",
      "execution_count": null,
      "outputs": [
        {
          "output_type": "execute_result",
          "data": {
            "text/html": [
              "<div>\n",
              "<style scoped>\n",
              "    .dataframe tbody tr th:only-of-type {\n",
              "        vertical-align: middle;\n",
              "    }\n",
              "\n",
              "    .dataframe tbody tr th {\n",
              "        vertical-align: top;\n",
              "    }\n",
              "\n",
              "    .dataframe thead th {\n",
              "        text-align: right;\n",
              "    }\n",
              "</style>\n",
              "<table border=\"1\" class=\"dataframe\">\n",
              "  <thead>\n",
              "    <tr style=\"text-align: right;\">\n",
              "      <th></th>\n",
              "      <th>YEAR</th>\n",
              "      <th>JAN</th>\n",
              "      <th>FEB</th>\n",
              "      <th>MAR</th>\n",
              "      <th>APR</th>\n",
              "      <th>MAY</th>\n",
              "      <th>JUN</th>\n",
              "      <th>JUL</th>\n",
              "      <th>AUG</th>\n",
              "      <th>SEP</th>\n",
              "      <th>OCT</th>\n",
              "      <th>NOV</th>\n",
              "      <th>DEC</th>\n",
              "    </tr>\n",
              "  </thead>\n",
              "  <tbody>\n",
              "    <tr>\n",
              "      <th>0</th>\n",
              "      <td>1901</td>\n",
              "      <td>28.7</td>\n",
              "      <td>44.7</td>\n",
              "      <td>51.6</td>\n",
              "      <td>160.0</td>\n",
              "      <td>174.7</td>\n",
              "      <td>824.6</td>\n",
              "      <td>743.0</td>\n",
              "      <td>357.5</td>\n",
              "      <td>197.7</td>\n",
              "      <td>266.9</td>\n",
              "      <td>350.8</td>\n",
              "      <td>48.4</td>\n",
              "    </tr>\n",
              "    <tr>\n",
              "      <th>1</th>\n",
              "      <td>1902</td>\n",
              "      <td>6.7</td>\n",
              "      <td>2.6</td>\n",
              "      <td>57.3</td>\n",
              "      <td>83.9</td>\n",
              "      <td>134.5</td>\n",
              "      <td>390.9</td>\n",
              "      <td>1205.0</td>\n",
              "      <td>315.8</td>\n",
              "      <td>491.6</td>\n",
              "      <td>358.4</td>\n",
              "      <td>158.3</td>\n",
              "      <td>121.5</td>\n",
              "    </tr>\n",
              "    <tr>\n",
              "      <th>2</th>\n",
              "      <td>1903</td>\n",
              "      <td>3.2</td>\n",
              "      <td>18.6</td>\n",
              "      <td>3.1</td>\n",
              "      <td>83.6</td>\n",
              "      <td>249.7</td>\n",
              "      <td>558.6</td>\n",
              "      <td>1022.5</td>\n",
              "      <td>420.2</td>\n",
              "      <td>341.8</td>\n",
              "      <td>354.1</td>\n",
              "      <td>157.0</td>\n",
              "      <td>59.0</td>\n",
              "    </tr>\n",
              "    <tr>\n",
              "      <th>3</th>\n",
              "      <td>1904</td>\n",
              "      <td>23.7</td>\n",
              "      <td>3.0</td>\n",
              "      <td>32.2</td>\n",
              "      <td>71.5</td>\n",
              "      <td>235.7</td>\n",
              "      <td>1098.2</td>\n",
              "      <td>725.5</td>\n",
              "      <td>351.8</td>\n",
              "      <td>222.7</td>\n",
              "      <td>328.1</td>\n",
              "      <td>33.9</td>\n",
              "      <td>3.3</td>\n",
              "    </tr>\n",
              "    <tr>\n",
              "      <th>4</th>\n",
              "      <td>1905</td>\n",
              "      <td>1.2</td>\n",
              "      <td>22.3</td>\n",
              "      <td>9.4</td>\n",
              "      <td>105.9</td>\n",
              "      <td>263.3</td>\n",
              "      <td>850.2</td>\n",
              "      <td>520.5</td>\n",
              "      <td>293.6</td>\n",
              "      <td>217.2</td>\n",
              "      <td>383.5</td>\n",
              "      <td>74.4</td>\n",
              "      <td>0.2</td>\n",
              "    </tr>\n",
              "  </tbody>\n",
              "</table>\n",
              "</div>"
            ],
            "text/plain": [
              "   YEAR   JAN   FEB   MAR    APR    MAY     JUN     JUL    AUG    SEP    OCT  \\\n",
              "0  1901  28.7  44.7  51.6  160.0  174.7   824.6   743.0  357.5  197.7  266.9   \n",
              "1  1902   6.7   2.6  57.3   83.9  134.5   390.9  1205.0  315.8  491.6  358.4   \n",
              "2  1903   3.2  18.6   3.1   83.6  249.7   558.6  1022.5  420.2  341.8  354.1   \n",
              "3  1904  23.7   3.0  32.2   71.5  235.7  1098.2   725.5  351.8  222.7  328.1   \n",
              "4  1905   1.2  22.3   9.4  105.9  263.3   850.2   520.5  293.6  217.2  383.5   \n",
              "\n",
              "     NOV    DEC  \n",
              "0  350.8   48.4  \n",
              "1  158.3  121.5  \n",
              "2  157.0   59.0  \n",
              "3   33.9    3.3  \n",
              "4   74.4    0.2  "
            ]
          },
          "metadata": {
            "tags": []
          },
          "execution_count": 21
        }
      ]
    },
    {
      "cell_type": "code",
      "metadata": {
        "id": "a4a6c303",
        "outputId": "19f8698e-baa2-4a36-df28-6b0ad00492f7"
      },
      "source": [
        "y = data.iloc[:, -1]\n",
        "y.head()"
      ],
      "id": "a4a6c303",
      "execution_count": null,
      "outputs": [
        {
          "output_type": "execute_result",
          "data": {
            "text/plain": [
              "0    1\n",
              "1    1\n",
              "2    1\n",
              "3    1\n",
              "4    0\n",
              "Name: FLOODS, dtype: int64"
            ]
          },
          "metadata": {
            "tags": []
          },
          "execution_count": 22
        }
      ]
    },
    {
      "cell_type": "markdown",
      "metadata": {
        "id": "b02fae25"
      },
      "source": [
        "# Plotting the Data"
      ],
      "id": "b02fae25"
    },
    {
      "cell_type": "code",
      "metadata": {
        "id": "52309d13",
        "outputId": "31561b49-6a56-41ee-8602-6d1ab64ad71e"
      },
      "source": [
        "import matplotlib.pyplot as plt   \n",
        "%matplotlib inline                   \n",
        "c = data[['JUN','JUL','AUG','SEP']]\n",
        "c.hist()\n",
        "plt.show()"
      ],
      "id": "52309d13",
      "execution_count": null,
      "outputs": [
        {
          "output_type": "display_data",
          "data": {
            "image/png": "[encoded data removed]",
            "text/plain": [
              "<Figure size 432x288 with 4 Axes>"
            ]
          },
          "metadata": {
            "tags": [],
            "needs_background": "light"
          }
        }
      ]
    },
    {
      "cell_type": "code",
      "metadata": {
        "id": "3c11fbcf",
        "outputId": "ab4a26d0-8ec4-4c36-ad1c-a3622cc5ce20"
      },
      "source": [
        "ax = data[['JAN', 'FEB', 'MAR', 'APR','MAY', 'JUN', 'AUG', 'SEP', 'OCT','NOV','DEC']].mean().plot.bar(width=0.5,edgecolor='k',align='center',linewidth=2,figsize=(14,6))\n",
        "plt.xlabel('Month',fontsize=30)\n",
        "plt.ylabel('Monthly Rainfall',fontsize=20)\n",
        "plt.title('Rainfall in Kerela for all Months',fontsize=25)\n",
        "ax.tick_params(labelsize=20)\n",
        "plt.grid()\n",
        "plt.ioff()"
      ],
      "id": "3c11fbcf",
      "execution_count": null,
      "outputs": [
        {
          "output_type": "display_data",
          "data": {
            "image/png": "[encoded data removed]",
            "text/plain": [
              "<Figure size 1008x432 with 1 Axes>"
            ]
          },
          "metadata": {
            "tags": [],
            "needs_background": "light"
          }
        }
      ]
    },
    {
      "cell_type": "markdown",
      "metadata": {
        "id": "2b27c241"
      },
      "source": [
        "# Using sklearn to develop the ML Model"
      ],
      "id": "2b27c241"
    },
    {
      "cell_type": "code",
      "metadata": {
        "id": "4ad740c3",
        "outputId": "c54f34cf-868c-4d5b-991f-c51fab7ca5b2"
      },
      "source": [
        "from sklearn import preprocessing\n",
        "minmax = preprocessing.MinMaxScaler(feature_range=(0,1))\n",
        "minmax.fit(x).transform(x)"
      ],
      "id": "4ad740c3",
      "execution_count": null,
      "outputs": [
        {
          "output_type": "execute_result",
          "data": {
            "text/plain": [
              "array([[0.        , 0.34371257, 0.56582278, ..., 0.39727673, 0.95570189,\n",
              "        0.2388724 ],\n",
              "       [0.00854701, 0.08023952, 0.03291139, ..., 0.5804966 , 0.37952709,\n",
              "        0.60039565],\n",
              "       [0.01709402, 0.03832335, 0.23544304, ..., 0.57188626, 0.37563604,\n",
              "        0.29129575],\n",
              "       ...,\n",
              "       [0.98290598, 0.02874251, 0.04810127, ..., 0.31517821, 0.28105358,\n",
              "        0.11622156],\n",
              "       [0.99145299, 0.02275449, 0.08607595, ..., 0.24809772, 0.18258007,\n",
              "        0.18793274],\n",
              "       [1.        , 0.34850299, 0.65949367, ..., 0.57589107, 0.28105358,\n",
              "        0.3214639 ]])"
            ]
          },
          "metadata": {
            "tags": []
          },
          "execution_count": 28
        }
      ]
    },
    {
      "cell_type": "code",
      "metadata": {
        "id": "4a805dc0",
        "outputId": "baaae2ca-3cf0-4bd8-fdb6-0ff54715c77d"
      },
      "source": [
        "from sklearn import model_selection,neighbors\n",
        "from sklearn.model_selection import train_test_split\n",
        "x_train,x_test,y_train,y_test=train_test_split(x,y,test_size=0.2)\n",
        "x_train.head()"
      ],
      "id": "4a805dc0",
      "execution_count": null,
      "outputs": [
        {
          "output_type": "execute_result",
          "data": {
            "text/html": [
              "<div>\n",
              "<style scoped>\n",
              "    .dataframe tbody tr th:only-of-type {\n",
              "        vertical-align: middle;\n",
              "    }\n",
              "\n",
              "    .dataframe tbody tr th {\n",
              "        vertical-align: top;\n",
              "    }\n",
              "\n",
              "    .dataframe thead th {\n",
              "        text-align: right;\n",
              "    }\n",
              "</style>\n",
              "<table border=\"1\" class=\"dataframe\">\n",
              "  <thead>\n",
              "    <tr style=\"text-align: right;\">\n",
              "      <th></th>\n",
              "      <th>YEAR</th>\n",
              "      <th>JAN</th>\n",
              "      <th>FEB</th>\n",
              "      <th>MAR</th>\n",
              "      <th>APR</th>\n",
              "      <th>MAY</th>\n",
              "      <th>JUN</th>\n",
              "      <th>JUL</th>\n",
              "      <th>AUG</th>\n",
              "      <th>SEP</th>\n",
              "      <th>OCT</th>\n",
              "      <th>NOV</th>\n",
              "      <th>DEC</th>\n",
              "    </tr>\n",
              "  </thead>\n",
              "  <tbody>\n",
              "    <tr>\n",
              "      <th>33</th>\n",
              "      <td>1934</td>\n",
              "      <td>74.5</td>\n",
              "      <td>1.7</td>\n",
              "      <td>47.7</td>\n",
              "      <td>92.4</td>\n",
              "      <td>106.7</td>\n",
              "      <td>852.9</td>\n",
              "      <td>415.0</td>\n",
              "      <td>337.2</td>\n",
              "      <td>48.4</td>\n",
              "      <td>335.9</td>\n",
              "      <td>93.4</td>\n",
              "      <td>4.9</td>\n",
              "    </tr>\n",
              "    <tr>\n",
              "      <th>110</th>\n",
              "      <td>2011</td>\n",
              "      <td>20.5</td>\n",
              "      <td>45.7</td>\n",
              "      <td>24.1</td>\n",
              "      <td>165.2</td>\n",
              "      <td>124.2</td>\n",
              "      <td>788.5</td>\n",
              "      <td>536.8</td>\n",
              "      <td>492.7</td>\n",
              "      <td>391.2</td>\n",
              "      <td>227.2</td>\n",
              "      <td>169.7</td>\n",
              "      <td>49.5</td>\n",
              "    </tr>\n",
              "    <tr>\n",
              "      <th>35</th>\n",
              "      <td>1936</td>\n",
              "      <td>1.2</td>\n",
              "      <td>16.5</td>\n",
              "      <td>116.0</td>\n",
              "      <td>34.0</td>\n",
              "      <td>466.5</td>\n",
              "      <td>620.8</td>\n",
              "      <td>672.1</td>\n",
              "      <td>367.9</td>\n",
              "      <td>286.7</td>\n",
              "      <td>231.7</td>\n",
              "      <td>211.1</td>\n",
              "      <td>18.6</td>\n",
              "    </tr>\n",
              "    <tr>\n",
              "      <th>77</th>\n",
              "      <td>1978</td>\n",
              "      <td>3.3</td>\n",
              "      <td>14.7</td>\n",
              "      <td>31.4</td>\n",
              "      <td>73.9</td>\n",
              "      <td>396.8</td>\n",
              "      <td>758.1</td>\n",
              "      <td>686.7</td>\n",
              "      <td>516.8</td>\n",
              "      <td>119.4</td>\n",
              "      <td>171.0</td>\n",
              "      <td>365.6</td>\n",
              "      <td>39.0</td>\n",
              "    </tr>\n",
              "    <tr>\n",
              "      <th>15</th>\n",
              "      <td>1916</td>\n",
              "      <td>0.0</td>\n",
              "      <td>7.8</td>\n",
              "      <td>22.0</td>\n",
              "      <td>82.4</td>\n",
              "      <td>199.0</td>\n",
              "      <td>920.2</td>\n",
              "      <td>513.9</td>\n",
              "      <td>396.9</td>\n",
              "      <td>339.3</td>\n",
              "      <td>320.7</td>\n",
              "      <td>134.3</td>\n",
              "      <td>8.9</td>\n",
              "    </tr>\n",
              "  </tbody>\n",
              "</table>\n",
              "</div>"
            ],
            "text/plain": [
              "     YEAR   JAN   FEB    MAR    APR    MAY    JUN    JUL    AUG    SEP    OCT  \\\n",
              "33   1934  74.5   1.7   47.7   92.4  106.7  852.9  415.0  337.2   48.4  335.9   \n",
              "110  2011  20.5  45.7   24.1  165.2  124.2  788.5  536.8  492.7  391.2  227.2   \n",
              "35   1936   1.2  16.5  116.0   34.0  466.5  620.8  672.1  367.9  286.7  231.7   \n",
              "77   1978   3.3  14.7   31.4   73.9  396.8  758.1  686.7  516.8  119.4  171.0   \n",
              "15   1916   0.0   7.8   22.0   82.4  199.0  920.2  513.9  396.9  339.3  320.7   \n",
              "\n",
              "       NOV   DEC  \n",
              "33    93.4   4.9  \n",
              "110  169.7  49.5  \n",
              "35   211.1  18.6  \n",
              "77   365.6  39.0  \n",
              "15   134.3   8.9  "
            ]
          },
          "metadata": {
            "tags": []
          },
          "execution_count": 29
        }
      ]
    },
    {
      "cell_type": "code",
      "metadata": {
        "id": "f5cadb5e",
        "outputId": "38ceddca-a9f6-4ccc-9a02-06bc4b013764"
      },
      "source": [
        "x_train.dtypes"
      ],
      "id": "f5cadb5e",
      "execution_count": null,
      "outputs": [
        {
          "output_type": "execute_result",
          "data": {
            "text/plain": [
              "YEAR      int64\n",
              "JAN     float64\n",
              "FEB     float64\n",
              "MAR     float64\n",
              "APR     float64\n",
              "MAY     float64\n",
              "JUN     float64\n",
              "JUL     float64\n",
              "AUG     float64\n",
              "SEP     float64\n",
              "OCT     float64\n",
              "NOV     float64\n",
              "DEC     float64\n",
              "dtype: object"
            ]
          },
          "metadata": {
            "tags": []
          },
          "execution_count": 30
        }
      ]
    },
    {
      "cell_type": "code",
      "metadata": {
        "id": "03d17838",
        "outputId": "9765e9ab-f3f7-4863-b770-42a514331df4"
      },
      "source": [
        "x_test.head()"
      ],
      "id": "03d17838",
      "execution_count": null,
      "outputs": [
        {
          "output_type": "execute_result",
          "data": {
            "text/html": [
              "<div>\n",
              "<style scoped>\n",
              "    .dataframe tbody tr th:only-of-type {\n",
              "        vertical-align: middle;\n",
              "    }\n",
              "\n",
              "    .dataframe tbody tr th {\n",
              "        vertical-align: top;\n",
              "    }\n",
              "\n",
              "    .dataframe thead th {\n",
              "        text-align: right;\n",
              "    }\n",
              "</style>\n",
              "<table border=\"1\" class=\"dataframe\">\n",
              "  <thead>\n",
              "    <tr style=\"text-align: right;\">\n",
              "      <th></th>\n",
              "      <th>YEAR</th>\n",
              "      <th>JAN</th>\n",
              "      <th>FEB</th>\n",
              "      <th>MAR</th>\n",
              "      <th>APR</th>\n",
              "      <th>MAY</th>\n",
              "      <th>JUN</th>\n",
              "      <th>JUL</th>\n",
              "      <th>AUG</th>\n",
              "      <th>SEP</th>\n",
              "      <th>OCT</th>\n",
              "      <th>NOV</th>\n",
              "      <th>DEC</th>\n",
              "    </tr>\n",
              "  </thead>\n",
              "  <tbody>\n",
              "    <tr>\n",
              "      <th>31</th>\n",
              "      <td>1932</td>\n",
              "      <td>0.1</td>\n",
              "      <td>19.3</td>\n",
              "      <td>28.6</td>\n",
              "      <td>113.0</td>\n",
              "      <td>646.5</td>\n",
              "      <td>341.0</td>\n",
              "      <td>716.4</td>\n",
              "      <td>423.2</td>\n",
              "      <td>317.3</td>\n",
              "      <td>543.2</td>\n",
              "      <td>223.2</td>\n",
              "      <td>31.3</td>\n",
              "    </tr>\n",
              "    <tr>\n",
              "      <th>22</th>\n",
              "      <td>1923</td>\n",
              "      <td>24.7</td>\n",
              "      <td>0.7</td>\n",
              "      <td>78.9</td>\n",
              "      <td>43.5</td>\n",
              "      <td>80.0</td>\n",
              "      <td>722.5</td>\n",
              "      <td>1008.7</td>\n",
              "      <td>943.0</td>\n",
              "      <td>254.3</td>\n",
              "      <td>203.1</td>\n",
              "      <td>83.9</td>\n",
              "      <td>41.6</td>\n",
              "    </tr>\n",
              "    <tr>\n",
              "      <th>19</th>\n",
              "      <td>1920</td>\n",
              "      <td>35.2</td>\n",
              "      <td>5.5</td>\n",
              "      <td>24.1</td>\n",
              "      <td>172.0</td>\n",
              "      <td>87.7</td>\n",
              "      <td>964.3</td>\n",
              "      <td>940.8</td>\n",
              "      <td>235.0</td>\n",
              "      <td>178.0</td>\n",
              "      <td>350.1</td>\n",
              "      <td>302.3</td>\n",
              "      <td>8.2</td>\n",
              "    </tr>\n",
              "    <tr>\n",
              "      <th>72</th>\n",
              "      <td>1973</td>\n",
              "      <td>0.0</td>\n",
              "      <td>0.3</td>\n",
              "      <td>12.3</td>\n",
              "      <td>131.5</td>\n",
              "      <td>119.9</td>\n",
              "      <td>617.0</td>\n",
              "      <td>583.5</td>\n",
              "      <td>487.5</td>\n",
              "      <td>61.3</td>\n",
              "      <td>260.8</td>\n",
              "      <td>84.5</td>\n",
              "      <td>53.8</td>\n",
              "    </tr>\n",
              "    <tr>\n",
              "      <th>94</th>\n",
              "      <td>1995</td>\n",
              "      <td>10.3</td>\n",
              "      <td>6.5</td>\n",
              "      <td>37.3</td>\n",
              "      <td>134.9</td>\n",
              "      <td>355.6</td>\n",
              "      <td>493.4</td>\n",
              "      <td>702.5</td>\n",
              "      <td>457.3</td>\n",
              "      <td>280.0</td>\n",
              "      <td>198.3</td>\n",
              "      <td>182.6</td>\n",
              "      <td>0.1</td>\n",
              "    </tr>\n",
              "  </tbody>\n",
              "</table>\n",
              "</div>"
            ],
            "text/plain": [
              "    YEAR   JAN   FEB   MAR    APR    MAY    JUN     JUL    AUG    SEP    OCT  \\\n",
              "31  1932   0.1  19.3  28.6  113.0  646.5  341.0   716.4  423.2  317.3  543.2   \n",
              "22  1923  24.7   0.7  78.9   43.5   80.0  722.5  1008.7  943.0  254.3  203.1   \n",
              "19  1920  35.2   5.5  24.1  172.0   87.7  964.3   940.8  235.0  178.0  350.1   \n",
              "72  1973   0.0   0.3  12.3  131.5  119.9  617.0   583.5  487.5   61.3  260.8   \n",
              "94  1995  10.3   6.5  37.3  134.9  355.6  493.4   702.5  457.3  280.0  198.3   \n",
              "\n",
              "      NOV   DEC  \n",
              "31  223.2  31.3  \n",
              "22   83.9  41.6  \n",
              "19  302.3   8.2  \n",
              "72   84.5  53.8  \n",
              "94  182.6   0.1  "
            ]
          },
          "metadata": {
            "tags": []
          },
          "execution_count": 31
        }
      ]
    },
    {
      "cell_type": "code",
      "metadata": {
        "id": "44fa88b0",
        "outputId": "257d2f94-64c0-495f-bd9c-a4975813e98f"
      },
      "source": [
        "y_train=y_train.astype('int')\n",
        "y_train"
      ],
      "id": "44fa88b0",
      "execution_count": null,
      "outputs": [
        {
          "output_type": "execute_result",
          "data": {
            "text/plain": [
              "33     0\n",
              "110    1\n",
              "35     1\n",
              "77     1\n",
              "15     1\n",
              "      ..\n",
              "51     0\n",
              "42     1\n",
              "66     0\n",
              "116    0\n",
              "9      0\n",
              "Name: FLOODS, Length: 94, dtype: int32"
            ]
          },
          "metadata": {
            "tags": []
          },
          "execution_count": 32
        }
      ]
    },
    {
      "cell_type": "code",
      "metadata": {
        "id": "01051a84",
        "outputId": "d8783a47-0336-4301-9756-769219f3fcf5"
      },
      "source": [
        "y_test=y_test.astype('int')\n",
        "y_test"
      ],
      "id": "01051a84",
      "execution_count": null,
      "outputs": [
        {
          "output_type": "execute_result",
          "data": {
            "text/plain": [
              "31     1\n",
              "22     1\n",
              "19     1\n",
              "72     0\n",
              "94     0\n",
              "45     1\n",
              "81     0\n",
              "97     1\n",
              "0      1\n",
              "65     0\n",
              "61     1\n",
              "6      1\n",
              "38     1\n",
              "53     1\n",
              "83     0\n",
              "103    0\n",
              "111    0\n",
              "39     1\n",
              "11     1\n",
              "112    1\n",
              "106    1\n",
              "27     0\n",
              "28     1\n",
              "95     0\n",
              "Name: FLOODS, dtype: int32"
            ]
          },
          "metadata": {
            "tags": []
          },
          "execution_count": 33
        }
      ]
    },
    {
      "cell_type": "markdown",
      "metadata": {
        "id": "8d87c826"
      },
      "source": [
        "# Using Prediction Algorithms:\n",
        "# KNN classifier to predict"
      ],
      "id": "8d87c826"
    },
    {
      "cell_type": "code",
      "metadata": {
        "id": "a49fb1fd",
        "outputId": "c8065811-46b5-43dc-8178-6abcfe0f6ab0"
      },
      "source": [
        "clf=neighbors.KNeighborsClassifier()\n",
        "clf.fit(x_train,y_train)"
      ],
      "id": "a49fb1fd",
      "execution_count": null,
      "outputs": [
        {
          "output_type": "execute_result",
          "data": {
            "text/plain": [
              "KNeighborsClassifier()"
            ]
          },
          "metadata": {
            "tags": []
          },
          "execution_count": 34
        }
      ]
    },
    {
      "cell_type": "code",
      "metadata": {
        "id": "e14eb7a8",
        "outputId": "1ec5f880-7b81-4c04-c620-3402b75c0992"
      },
      "source": [
        "print(\"Predicted Values for the Floods:\")\n",
        "y_predict=clf.predict(x_test)\n",
        "y_predict"
      ],
      "id": "e14eb7a8",
      "execution_count": null,
      "outputs": [
        {
          "output_type": "stream",
          "text": [
            "Predicted Values for the Floods:\n"
          ],
          "name": "stdout"
        },
        {
          "output_type": "execute_result",
          "data": {
            "text/plain": [
              "array([1, 1, 1, 0, 1, 1, 0, 1, 1, 0, 1, 1, 0, 0, 0, 1, 0, 0, 1, 1, 1, 0,\n",
              "       1, 0])"
            ]
          },
          "metadata": {
            "tags": []
          },
          "execution_count": 35
        }
      ]
    },
    {
      "cell_type": "code",
      "metadata": {
        "id": "c93b4e6f",
        "outputId": "643804bf-6bd1-45d2-c2b5-0ee4eff40033"
      },
      "source": [
        "print(\"Actual Values for the Floods:\")\n",
        "print(y_test)"
      ],
      "id": "c93b4e6f",
      "execution_count": null,
      "outputs": [
        {
          "output_type": "stream",
          "text": [
            "Actual Values for the Floods:\n",
            "31     1\n",
            "22     1\n",
            "19     1\n",
            "72     0\n",
            "94     0\n",
            "45     1\n",
            "81     0\n",
            "97     1\n",
            "0      1\n",
            "65     0\n",
            "61     1\n",
            "6      1\n",
            "38     1\n",
            "53     1\n",
            "83     0\n",
            "103    0\n",
            "111    0\n",
            "39     1\n",
            "11     1\n",
            "112    1\n",
            "106    1\n",
            "27     0\n",
            "28     1\n",
            "95     0\n",
            "Name: FLOODS, dtype: int32\n"
          ],
          "name": "stdout"
        }
      ]
    },
    {
      "cell_type": "code",
      "metadata": {
        "id": "8721c5ab",
        "outputId": "9d1b6fae-72b2-40e3-cd02-65fdd8167ec1"
      },
      "source": [
        "print(\"List of the Predicted Values:\")\n",
        "print(y_predict)"
      ],
      "id": "8721c5ab",
      "execution_count": null,
      "outputs": [
        {
          "output_type": "stream",
          "text": [
            "List of the Predicted Values:\n",
            "[1 1 1 0 1 1 0 1 1 0 1 1 0 0 0 1 0 0 1 1 1 0 1 0]\n"
          ],
          "name": "stdout"
        }
      ]
    },
    {
      "cell_type": "code",
      "metadata": {
        "id": "40364d4c"
      },
      "source": [
        "from sklearn.model_selection import cross_val_score,cross_val_predict\n",
        "x_train_std= minmax.fit_transform(x_train)\n",
        "x_test_std= minmax.fit_transform(x_test)\n",
        "knn_acc=cross_val_score(clf,x_train_std,y_train,cv=3,scoring='accuracy',n_jobs=-1)\n",
        "knn_proba=cross_val_predict(clf,x_train_std,y_train,cv=3,method='predict_proba')"
      ],
      "id": "40364d4c",
      "execution_count": null,
      "outputs": []
    },
    {
      "cell_type": "code",
      "metadata": {
        "id": "94bb46fc",
        "outputId": "2d1be60b-cc6b-44b1-813d-cc4e4b61b502"
      },
      "source": [
        "knn_acc"
      ],
      "id": "94bb46fc",
      "execution_count": null,
      "outputs": [
        {
          "output_type": "execute_result",
          "data": {
            "text/plain": [
              "array([0.75      , 0.83870968, 0.70967742])"
            ]
          },
          "metadata": {
            "tags": []
          },
          "execution_count": 39
        }
      ]
    },
    {
      "cell_type": "code",
      "metadata": {
        "id": "3b9932dd",
        "outputId": "e2e1ac84-f2e8-4f40-ecea-8f1023cc90d8"
      },
      "source": [
        "knn_proba"
      ],
      "id": "3b9932dd",
      "execution_count": null,
      "outputs": [
        {
          "output_type": "execute_result",
          "data": {
            "text/plain": [
              "array([[0. , 1. ],\n",
              "       [0.2, 0.8],\n",
              "       [0. , 1. ],\n",
              "       [0.4, 0.6],\n",
              "       [0.4, 0.6],\n",
              "       [0. , 1. ],\n",
              "       [0.4, 0.6],\n",
              "       [0.8, 0.2],\n",
              "       [0.8, 0.2],\n",
              "       [0.6, 0.4],\n",
              "       [0.2, 0.8],\n",
              "       [0.6, 0.4],\n",
              "       [0. , 1. ],\n",
              "       [0.8, 0.2],\n",
              "       [0.8, 0.2],\n",
              "       [0.2, 0.8],\n",
              "       [0.6, 0.4],\n",
              "       [0.8, 0.2],\n",
              "       [0.4, 0.6],\n",
              "       [0.2, 0.8],\n",
              "       [0.8, 0.2],\n",
              "       [1. , 0. ],\n",
              "       [0.6, 0.4],\n",
              "       [0. , 1. ],\n",
              "       [0.6, 0.4],\n",
              "       [0.2, 0.8],\n",
              "       [0.6, 0.4],\n",
              "       [1. , 0. ],\n",
              "       [0.6, 0.4],\n",
              "       [0.4, 0.6],\n",
              "       [1. , 0. ],\n",
              "       [0.6, 0.4],\n",
              "       [1. , 0. ],\n",
              "       [0.6, 0.4],\n",
              "       [0.4, 0.6],\n",
              "       [0.6, 0.4],\n",
              "       [0.4, 0.6],\n",
              "       [0.8, 0.2],\n",
              "       [0.2, 0.8],\n",
              "       [0.8, 0.2],\n",
              "       [0.4, 0.6],\n",
              "       [0.8, 0.2],\n",
              "       [0.8, 0.2],\n",
              "       [0.2, 0.8],\n",
              "       [0.2, 0.8],\n",
              "       [0.6, 0.4],\n",
              "       [1. , 0. ],\n",
              "       [0.4, 0.6],\n",
              "       [0.8, 0.2],\n",
              "       [0.4, 0.6],\n",
              "       [0.6, 0.4],\n",
              "       [0.2, 0.8],\n",
              "       [0.8, 0.2],\n",
              "       [0.6, 0.4],\n",
              "       [1. , 0. ],\n",
              "       [0.8, 0.2],\n",
              "       [0.8, 0.2],\n",
              "       [0.8, 0.2],\n",
              "       [1. , 0. ],\n",
              "       [0.4, 0.6],\n",
              "       [0.6, 0.4],\n",
              "       [0.6, 0.4],\n",
              "       [0.6, 0.4],\n",
              "       [0.8, 0.2],\n",
              "       [0.6, 0.4],\n",
              "       [0.6, 0.4],\n",
              "       [0. , 1. ],\n",
              "       [1. , 0. ],\n",
              "       [0.8, 0.2],\n",
              "       [0.6, 0.4],\n",
              "       [0.6, 0.4],\n",
              "       [0.6, 0.4],\n",
              "       [0.4, 0.6],\n",
              "       [0.2, 0.8],\n",
              "       [0.2, 0.8],\n",
              "       [0.8, 0.2],\n",
              "       [0. , 1. ],\n",
              "       [0.6, 0.4],\n",
              "       [0.6, 0.4],\n",
              "       [0.2, 0.8],\n",
              "       [0.2, 0.8],\n",
              "       [0.2, 0.8],\n",
              "       [0.6, 0.4],\n",
              "       [0.8, 0.2],\n",
              "       [0.8, 0.2],\n",
              "       [1. , 0. ],\n",
              "       [0.4, 0.6],\n",
              "       [0.8, 0.2],\n",
              "       [0.4, 0.6],\n",
              "       [1. , 0. ],\n",
              "       [0.4, 0.6],\n",
              "       [0.8, 0.2],\n",
              "       [0.8, 0.2],\n",
              "       [0.4, 0.6]])"
            ]
          },
          "metadata": {
            "tags": []
          },
          "execution_count": 40
        }
      ]
    },
    {
      "cell_type": "markdown",
      "metadata": {
        "id": "3d624636"
      },
      "source": [
        "How accurate is our model?"
      ],
      "id": "3d624636"
    },
    {
      "cell_type": "code",
      "metadata": {
        "id": "c79ecccf",
        "outputId": "2b3ea276-a9a7-4838-f840-31600211b3bf"
      },
      "source": [
        "from sklearn.metrics import accuracy_score,recall_score,roc_auc_score,confusion_matrix\n",
        "print(\"\\nAccuracy Score:%f\"%(accuracy_score(y_test,y_predict)*100))\n",
        "print(\"Recall Score:%f\"%(recall_score(y_test,y_predict)*100))\n",
        "print(\"ROC score:%f\"%(roc_auc_score(y_test,y_predict)*100))\n",
        "print(confusion_matrix(y_test,y_predict))"
      ],
      "id": "c79ecccf",
      "execution_count": null,
      "outputs": [
        {
          "output_type": "stream",
          "text": [
            "\n",
            "Accuracy Score:79.166667\n",
            "Recall Score:80.000000\n",
            "ROC score:78.888889\n",
            "[[ 7  2]\n",
            " [ 3 12]]\n"
          ],
          "name": "stdout"
        }
      ]
    },
    {
      "cell_type": "markdown",
      "metadata": {
        "id": "c588f6e0"
      },
      "source": [
        "# Logistic Regression to predict"
      ],
      "id": "c588f6e0"
    },
    {
      "cell_type": "code",
      "metadata": {
        "id": "bcf586dd"
      },
      "source": [
        "x_train_std=minmax.fit_transform(x_train)         # fit the values in between 0 and 1.\n",
        "y_train_std=minmax.transform(x_test)\n",
        "\n",
        "from sklearn.model_selection import cross_val_score,cross_val_predict\n",
        "from sklearn.linear_model import LogisticRegression\n",
        "lr=LogisticRegression()\n",
        "lr.fit(x_train,y_train)\n",
        "lr_acc=cross_val_score(lr,x_train_std,y_train,cv=3,scoring='accuracy',n_jobs=-1)\n",
        "lr_proba=cross_val_predict(lr,x_train_std,y_train,cv=3,method='predict_proba')"
      ],
      "id": "bcf586dd",
      "execution_count": null,
      "outputs": []
    },
    {
      "cell_type": "code",
      "metadata": {
        "id": "a6c4f154",
        "outputId": "3adf7e62-f23e-48a3-dd8b-dfe937a2ebed"
      },
      "source": [
        "lr_acc"
      ],
      "id": "a6c4f154",
      "execution_count": null,
      "outputs": [
        {
          "output_type": "execute_result",
          "data": {
            "text/plain": [
              "array([0.875     , 0.90322581, 0.74193548])"
            ]
          },
          "metadata": {
            "tags": []
          },
          "execution_count": 46
        }
      ]
    },
    {
      "cell_type": "code",
      "metadata": {
        "id": "18010c05",
        "outputId": "c2331603-7537-4d4d-dd10-9441c4acb59c"
      },
      "source": [
        "lr_proba"
      ],
      "id": "18010c05",
      "execution_count": null,
      "outputs": [
        {
          "output_type": "execute_result",
          "data": {
            "text/plain": [
              "array([[0.5319196 , 0.4680804 ],\n",
              "       [0.42508965, 0.57491035],\n",
              "       [0.45141961, 0.54858039],\n",
              "       [0.48584964, 0.51415036],\n",
              "       [0.39924282, 0.60075718],\n",
              "       [0.19835917, 0.80164083],\n",
              "       [0.50396044, 0.49603956],\n",
              "       [0.5842214 , 0.4157786 ],\n",
              "       [0.70066551, 0.29933449],\n",
              "       [0.55012157, 0.44987843],\n",
              "       [0.35988877, 0.64011123],\n",
              "       [0.51673284, 0.48326716],\n",
              "       [0.14094465, 0.85905535],\n",
              "       [0.59253405, 0.40746595],\n",
              "       [0.61864075, 0.38135925],\n",
              "       [0.35928838, 0.64071162],\n",
              "       [0.54145594, 0.45854406],\n",
              "       [0.54811082, 0.45188918],\n",
              "       [0.33698717, 0.66301283],\n",
              "       [0.52380998, 0.47619002],\n",
              "       [0.59649242, 0.40350758],\n",
              "       [0.77698744, 0.22301256],\n",
              "       [0.69372365, 0.30627635],\n",
              "       [0.12100502, 0.87899498],\n",
              "       [0.43191791, 0.56808209],\n",
              "       [0.45442143, 0.54557857],\n",
              "       [0.57338849, 0.42661151],\n",
              "       [0.72529805, 0.27470195],\n",
              "       [0.51495269, 0.48504731],\n",
              "       [0.39123363, 0.60876637],\n",
              "       [0.61798994, 0.38201006],\n",
              "       [0.56281703, 0.43718297],\n",
              "       [0.77643796, 0.22356204],\n",
              "       [0.62306508, 0.37693492],\n",
              "       [0.43929165, 0.56070835],\n",
              "       [0.4575089 , 0.5424911 ],\n",
              "       [0.5267171 , 0.4732829 ],\n",
              "       [0.62429584, 0.37570416],\n",
              "       [0.27740689, 0.72259311],\n",
              "       [0.72941688, 0.27058312],\n",
              "       [0.23685794, 0.76314206],\n",
              "       [0.599636  , 0.400364  ],\n",
              "       [0.72212206, 0.27787794],\n",
              "       [0.19587177, 0.80412823],\n",
              "       [0.46498995, 0.53501005],\n",
              "       [0.4479788 , 0.5520212 ],\n",
              "       [0.77341957, 0.22658043],\n",
              "       [0.35193204, 0.64806796],\n",
              "       [0.43005098, 0.56994902],\n",
              "       [0.55219095, 0.44780905],\n",
              "       [0.56451016, 0.43548984],\n",
              "       [0.24384341, 0.75615659],\n",
              "       [0.72443433, 0.27556567],\n",
              "       [0.37514936, 0.62485064],\n",
              "       [0.63470189, 0.36529811],\n",
              "       [0.70210382, 0.29789618],\n",
              "       [0.75032646, 0.24967354],\n",
              "       [0.64286781, 0.35713219],\n",
              "       [0.66823702, 0.33176298],\n",
              "       [0.4071777 , 0.5928223 ],\n",
              "       [0.5904489 , 0.4095511 ],\n",
              "       [0.51556538, 0.48443462],\n",
              "       [0.61780956, 0.38219044],\n",
              "       [0.72714496, 0.27285504],\n",
              "       [0.62342921, 0.37657079],\n",
              "       [0.64445604, 0.35554396],\n",
              "       [0.2570175 , 0.7429825 ],\n",
              "       [0.70584977, 0.29415023],\n",
              "       [0.65119339, 0.34880661],\n",
              "       [0.5252354 , 0.4747646 ],\n",
              "       [0.47589725, 0.52410275],\n",
              "       [0.50666653, 0.49333347],\n",
              "       [0.51486178, 0.48513822],\n",
              "       [0.23025783, 0.76974217],\n",
              "       [0.29234243, 0.70765757],\n",
              "       [0.54274507, 0.45725493],\n",
              "       [0.11190889, 0.88809111],\n",
              "       [0.4408638 , 0.5591362 ],\n",
              "       [0.350046  , 0.649954  ],\n",
              "       [0.35682085, 0.64317915],\n",
              "       [0.32016871, 0.67983129],\n",
              "       [0.52055991, 0.47944009],\n",
              "       [0.44374918, 0.55625082],\n",
              "       [0.36509667, 0.63490333],\n",
              "       [0.69342508, 0.30657492],\n",
              "       [0.82992498, 0.17007502],\n",
              "       [0.46936824, 0.53063176],\n",
              "       [0.50615353, 0.49384647],\n",
              "       [0.28588341, 0.71411659],\n",
              "       [0.81028915, 0.18971085],\n",
              "       [0.29134242, 0.70865758],\n",
              "       [0.69441256, 0.30558744],\n",
              "       [0.7917034 , 0.2082966 ],\n",
              "       [0.38003023, 0.61996977]])"
            ]
          },
          "metadata": {
            "tags": []
          },
          "execution_count": 47
        }
      ]
    },
    {
      "cell_type": "code",
      "metadata": {
        "id": "19f55338",
        "outputId": "d73ca5d2-c33e-4366-b716-e1ac5eccbe6a"
      },
      "source": [
        "y_pred=lr.predict(x_test)\n",
        "y_pred"
      ],
      "id": "19f55338",
      "execution_count": null,
      "outputs": [
        {
          "output_type": "execute_result",
          "data": {
            "text/plain": [
              "array([1, 1, 1, 0, 1, 1, 0, 1, 1, 0, 1, 1, 0, 0, 0, 1, 0, 1, 1, 1, 1, 0,\n",
              "       1, 0])"
            ]
          },
          "metadata": {
            "tags": []
          },
          "execution_count": 48
        }
      ]
    },
    {
      "cell_type": "code",
      "metadata": {
        "id": "318021b5",
        "outputId": "a967211a-1a53-4b69-e53a-250c6d8072bd"
      },
      "source": [
        "print(y_test.values)"
      ],
      "id": "318021b5",
      "execution_count": null,
      "outputs": [
        {
          "output_type": "stream",
          "text": [
            "[1 1 1 0 0 1 0 1 1 0 1 1 1 1 0 0 0 1 1 1 1 0 1 0]\n"
          ],
          "name": "stdout"
        }
      ]
    },
    {
      "cell_type": "code",
      "metadata": {
        "id": "ca1b1601",
        "outputId": "c48ee0be-df2b-4409-e4b7-83f0944969c3"
      },
      "source": [
        "print(\"List of the Predicted Values:\")\n",
        "print(y_pred)"
      ],
      "id": "ca1b1601",
      "execution_count": null,
      "outputs": [
        {
          "output_type": "stream",
          "text": [
            "List of the Predicted Values:\n",
            "[1 1 1 0 1 1 0 1 1 0 1 1 0 0 0 1 0 1 1 1 1 0 1 0]\n"
          ],
          "name": "stdout"
        }
      ]
    },
    {
      "cell_type": "markdown",
      "metadata": {
        "id": "6e0c928a"
      },
      "source": [
        "Accuracy and Efficiency of our Model"
      ],
      "id": "6e0c928a"
    },
    {
      "cell_type": "code",
      "metadata": {
        "id": "df03c864",
        "outputId": "20b65275-3212-4a46-d9a8-7ae636e08039"
      },
      "source": [
        "from sklearn.metrics import accuracy_score,recall_score,roc_auc_score,confusion_matrix\n",
        "print(\"\\naccuracy score:%f\"%(accuracy_score(y_test,y_pred)*100))\n",
        "print(\"recall score:%f\"%(recall_score(y_test,y_pred)*100))\n",
        "print(\"roc score:%f\"%(roc_auc_score(y_test,y_pred)*100))\n",
        "print(confusion_matrix(y_test,y_pred))"
      ],
      "id": "df03c864",
      "execution_count": null,
      "outputs": [
        {
          "output_type": "stream",
          "text": [
            "\n",
            "accuracy score:83.333333\n",
            "recall score:86.666667\n",
            "roc score:82.222222\n",
            "[[ 7  2]\n",
            " [ 2 13]]\n"
          ],
          "name": "stdout"
        }
      ]
    },
    {
      "cell_type": "markdown",
      "metadata": {
        "id": "38b29285"
      },
      "source": [
        "# Support Vector Classification to predict"
      ],
      "id": "38b29285"
    },
    {
      "cell_type": "code",
      "metadata": {
        "id": "583f4755",
        "colab": {
          "base_uri": "https://localhost:8080/",
          "height": 238
        },
        "outputId": "3bb2af98-2ff4-465b-aba5-38e94b998815"
      },
      "source": [
        "from sklearn.svm import SVC\n",
        "svc=SVC(kernel='rbf',probability=True)\n",
        "svc_classifier=svc.fit(x_train,y_train)\n",
        "svc_acc=cross_val_score(svc_classifier,x_train_std,y_train,cv=3,scoring=\"accuracy\",n_jobs=-1)\n",
        "svc_proba=cross_val_predict(svc_classifier,x_train_std,y_train,cv=3,method='predict_proba')"
      ],
      "id": "583f4755",
      "execution_count": null,
      "outputs": [
        {
          "output_type": "error",
          "ename": "NameError",
          "evalue": "ignored",
          "traceback": [
            "\u001b[0;31m---------------------------------------------------------------------------\u001b[0m",
            "\u001b[0;31mNameError\u001b[0m                                 Traceback (most recent call last)",
            "\u001b[0;32m<ipython-input-2-03ebfe6a07f6>\u001b[0m in \u001b[0;36m<module>\u001b[0;34m()\u001b[0m\n\u001b[1;32m      1\u001b[0m \u001b[0;32mfrom\u001b[0m \u001b[0msklearn\u001b[0m\u001b[0;34m.\u001b[0m\u001b[0msvm\u001b[0m \u001b[0;32mimport\u001b[0m \u001b[0mSVC\u001b[0m\u001b[0;34m\u001b[0m\u001b[0;34m\u001b[0m\u001b[0m\n\u001b[1;32m      2\u001b[0m \u001b[0msvc\u001b[0m\u001b[0;34m=\u001b[0m\u001b[0mSVC\u001b[0m\u001b[0;34m(\u001b[0m\u001b[0mkernel\u001b[0m\u001b[0;34m=\u001b[0m\u001b[0;34m'rbf'\u001b[0m\u001b[0;34m,\u001b[0m\u001b[0mprobability\u001b[0m\u001b[0;34m=\u001b[0m\u001b[0;32mTrue\u001b[0m\u001b[0;34m)\u001b[0m\u001b[0;34m\u001b[0m\u001b[0;34m\u001b[0m\u001b[0m\n\u001b[0;32m----> 3\u001b[0;31m \u001b[0msvc_classifier\u001b[0m\u001b[0;34m=\u001b[0m\u001b[0msvc\u001b[0m\u001b[0;34m.\u001b[0m\u001b[0mfit\u001b[0m\u001b[0;34m(\u001b[0m\u001b[0mx_train\u001b[0m\u001b[0;34m,\u001b[0m\u001b[0my_train\u001b[0m\u001b[0;34m)\u001b[0m\u001b[0;34m\u001b[0m\u001b[0;34m\u001b[0m\u001b[0m\n\u001b[0m\u001b[1;32m      4\u001b[0m \u001b[0msvc_acc\u001b[0m\u001b[0;34m=\u001b[0m\u001b[0mcross_val_score\u001b[0m\u001b[0;34m(\u001b[0m\u001b[0msvc_classifier\u001b[0m\u001b[0;34m,\u001b[0m\u001b[0mx_train_std\u001b[0m\u001b[0;34m,\u001b[0m\u001b[0my_train\u001b[0m\u001b[0;34m,\u001b[0m\u001b[0mcv\u001b[0m\u001b[0;34m=\u001b[0m\u001b[0;36m3\u001b[0m\u001b[0;34m,\u001b[0m\u001b[0mscoring\u001b[0m\u001b[0;34m=\u001b[0m\u001b[0;34m\"accuracy\"\u001b[0m\u001b[0;34m,\u001b[0m\u001b[0mn_jobs\u001b[0m\u001b[0;34m=\u001b[0m\u001b[0;34m-\u001b[0m\u001b[0;36m1\u001b[0m\u001b[0;34m)\u001b[0m\u001b[0;34m\u001b[0m\u001b[0;34m\u001b[0m\u001b[0m\n\u001b[1;32m      5\u001b[0m \u001b[0msvc_proba\u001b[0m\u001b[0;34m=\u001b[0m\u001b[0mcross_val_predict\u001b[0m\u001b[0;34m(\u001b[0m\u001b[0msvc_classifier\u001b[0m\u001b[0;34m,\u001b[0m\u001b[0mx_train_std\u001b[0m\u001b[0;34m,\u001b[0m\u001b[0my_train\u001b[0m\u001b[0;34m,\u001b[0m\u001b[0mcv\u001b[0m\u001b[0;34m=\u001b[0m\u001b[0;36m3\u001b[0m\u001b[0;34m,\u001b[0m\u001b[0mmethod\u001b[0m\u001b[0;34m=\u001b[0m\u001b[0;34m'predict_proba'\u001b[0m\u001b[0;34m)\u001b[0m\u001b[0;34m\u001b[0m\u001b[0;34m\u001b[0m\u001b[0m\n",
            "\u001b[0;31mNameError\u001b[0m: name 'x_train' is not defined"
          ]
        }
      ]
    },
    {
      "cell_type": "code",
      "metadata": {
        "id": "673b8c3e",
        "colab": {
          "base_uri": "https://localhost:8080/",
          "height": 167
        },
        "outputId": "5c5795eb-1e8a-4391-cd4b-d927f7baab61"
      },
      "source": [
        "svc_acc"
      ],
      "id": "673b8c3e",
      "execution_count": null,
      "outputs": [
        {
          "output_type": "error",
          "ename": "NameError",
          "evalue": "ignored",
          "traceback": [
            "\u001b[0;31m---------------------------------------------------------------------------\u001b[0m",
            "\u001b[0;31mNameError\u001b[0m                                 Traceback (most recent call last)",
            "\u001b[0;32m<ipython-input-3-8ee5b96a515e>\u001b[0m in \u001b[0;36m<module>\u001b[0;34m()\u001b[0m\n\u001b[0;32m----> 1\u001b[0;31m \u001b[0msvc_acc\u001b[0m\u001b[0;34m\u001b[0m\u001b[0;34m\u001b[0m\u001b[0m\n\u001b[0m",
            "\u001b[0;31mNameError\u001b[0m: name 'svc_acc' is not defined"
          ]
        }
      ]
    },
    {
      "cell_type": "code",
      "metadata": {
        "id": "33d39260"
      },
      "source": [
        "svc_proba"
      ],
      "id": "33d39260",
      "execution_count": null,
      "outputs": []
    },
    {
      "cell_type": "code",
      "metadata": {
        "id": "96522e72"
      },
      "source": [
        "svc_scores=svc_proba[:,1]\n",
        "svc_scores"
      ],
      "id": "96522e72",
      "execution_count": null,
      "outputs": []
    },
    {
      "cell_type": "code",
      "metadata": {
        "id": "43d00715"
      },
      "source": [
        "y_pred=svc_classifier.predict(x_test)\n",
        "print(\"Actual Flood Values:\")\n",
        "print(y_test.values)"
      ],
      "id": "43d00715",
      "execution_count": null,
      "outputs": []
    },
    {
      "cell_type": "code",
      "metadata": {
        "id": "851611a1"
      },
      "source": [
        "print(\"Predicted Flood Values:\")\n",
        "print(y_pred)"
      ],
      "id": "851611a1",
      "execution_count": null,
      "outputs": []
    },
    {
      "cell_type": "markdown",
      "metadata": {
        "id": "db9cf40b"
      },
      "source": [
        "Accuracy of our model"
      ],
      "id": "db9cf40b"
    },
    {
      "cell_type": "code",
      "metadata": {
        "id": "9a37e67f"
      },
      "source": [
        "from sklearn.metrics import accuracy_score,recall_score,roc_auc_score,confusion_matrix\n",
        "print(\"\\naccuracy score:%f\"%(accuracy_score(y_test,y_pred)*100))\n",
        "print(\"recall score:%f\"%(recall_score(y_test,y_pred)*100))\n",
        "print(\"roc score:%f\"%(roc_auc_score(y_test,y_pred)*100))\n",
        "print(confusion_matrix(y_test,y_pred))"
      ],
      "id": "9a37e67f",
      "execution_count": null,
      "outputs": []
    },
    {
      "cell_type": "markdown",
      "metadata": {
        "id": "0413f722"
      },
      "source": [
        "# Decision Tree Classification to Predict"
      ],
      "id": "0413f722"
    },
    {
      "cell_type": "code",
      "metadata": {
        "id": "43e802c7",
        "outputId": "7672239e-9b6a-4578-f87f-d04175025755"
      },
      "source": [
        "from sklearn.tree import DecisionTreeClassifier\n",
        "dtc_clf=DecisionTreeClassifier()\n",
        "dtc_clf.fit(x_train,y_train)\n",
        "dtc_clf_acc=cross_val_score(dtc_clf,x_train_std,y_train,cv=3,scoring=\"accuracy\",n_jobs=-1)\n",
        "dtc_clf_acc"
      ],
      "id": "43e802c7",
      "execution_count": null,
      "outputs": [
        {
          "output_type": "execute_result",
          "data": {
            "text/plain": [
              "array([0.625     , 0.77419355, 0.5483871 ])"
            ]
          },
          "metadata": {
            "tags": []
          },
          "execution_count": 60
        }
      ]
    },
    {
      "cell_type": "code",
      "metadata": {
        "id": "2ea2adaf",
        "outputId": "f5043c11-91bf-4497-d2d3-f552ab21a0c4"
      },
      "source": [
        "print(\"Predicted Values:\")\n",
        "y_pred=dtc_clf.predict(x_test)\n",
        "y_pred"
      ],
      "id": "2ea2adaf",
      "execution_count": null,
      "outputs": [
        {
          "output_type": "stream",
          "text": [
            "Predicted Values:\n"
          ],
          "name": "stdout"
        },
        {
          "output_type": "execute_result",
          "data": {
            "text/plain": [
              "array([1, 1, 1, 0, 1, 1, 0, 1, 0, 0, 1, 1, 0, 0, 0, 0, 0, 0, 1, 1, 1, 0,\n",
              "       1, 1])"
            ]
          },
          "metadata": {
            "tags": []
          },
          "execution_count": 61
        }
      ]
    },
    {
      "cell_type": "code",
      "metadata": {
        "id": "597f8e1b",
        "outputId": "c00b9c30-99ef-4fbe-adb7-84979759b433"
      },
      "source": [
        "print(\"Actual Values:\")\n",
        "print(y_test.values)"
      ],
      "id": "597f8e1b",
      "execution_count": null,
      "outputs": [
        {
          "output_type": "stream",
          "text": [
            "Actual Values:\n",
            "[1 1 1 0 0 1 0 1 1 0 1 1 1 1 0 0 0 1 1 1 1 0 1 0]\n"
          ],
          "name": "stdout"
        }
      ]
    },
    {
      "cell_type": "markdown",
      "metadata": {
        "id": "8ee70dd8"
      },
      "source": [
        "Printing the Accuracy"
      ],
      "id": "8ee70dd8"
    },
    {
      "cell_type": "code",
      "metadata": {
        "id": "77755c8c",
        "outputId": "43b57f76-0a67-43b0-b32a-10d8d7a5d8c5"
      },
      "source": [
        "from sklearn.metrics import accuracy_score,recall_score,roc_auc_score,confusion_matrix\n",
        "print(\"\\naccuracy score:%f\"%(accuracy_score(y_test,y_pred)*100))\n",
        "print(\"recall score:%f\"%(recall_score(y_test,y_pred)*100))\n",
        "print(\"roc score:%f\"%(roc_auc_score(y_test,y_pred)*100))\n",
        "print(confusion_matrix(y_test,y_pred))"
      ],
      "id": "77755c8c",
      "execution_count": null,
      "outputs": [
        {
          "output_type": "stream",
          "text": [
            "\n",
            "accuracy score:75.000000\n",
            "recall score:73.333333\n",
            "roc score:75.555556\n",
            "[[ 7  2]\n",
            " [ 4 11]]\n"
          ],
          "name": "stdout"
        }
      ]
    },
    {
      "cell_type": "markdown",
      "metadata": {
        "id": "35102590"
      },
      "source": [
        "# Random Forest Classifier to predict"
      ],
      "id": "35102590"
    },
    {
      "cell_type": "code",
      "metadata": {
        "id": "5c584213",
        "outputId": "3be7d8a7-7909-47f9-d6d8-0c92bbfaa738"
      },
      "source": [
        "from sklearn.ensemble import RandomForestClassifier\n",
        "rmf=RandomForestClassifier(max_depth=3,random_state=0)\n",
        "rmf_clf=rmf.fit(x_train,y_train)\n",
        "rmf_clf"
      ],
      "id": "5c584213",
      "execution_count": null,
      "outputs": [
        {
          "output_type": "execute_result",
          "data": {
            "text/plain": [
              "RandomForestClassifier(max_depth=3, random_state=0)"
            ]
          },
          "metadata": {
            "tags": []
          },
          "execution_count": 64
        }
      ]
    },
    {
      "cell_type": "code",
      "metadata": {
        "id": "fa4c40fd"
      },
      "source": [
        "rmf_clf_acc=cross_val_score(rmf_clf,x_train_std,y_train,cv=3,scoring=\"accuracy\",n_jobs=-1)\n",
        "rmf_proba=cross_val_predict(rmf_clf,x_train_std,y_train,cv=3,method='predict_proba')"
      ],
      "id": "fa4c40fd",
      "execution_count": null,
      "outputs": []
    },
    {
      "cell_type": "code",
      "metadata": {
        "id": "502d84f7",
        "outputId": "e2af2fad-a3a9-4ee9-9cb6-cfd1749da744"
      },
      "source": [
        "rmf_clf_acc"
      ],
      "id": "502d84f7",
      "execution_count": null,
      "outputs": [
        {
          "output_type": "execute_result",
          "data": {
            "text/plain": [
              "array([0.59375   , 0.77419355, 0.74193548])"
            ]
          },
          "metadata": {
            "tags": []
          },
          "execution_count": 66
        }
      ]
    },
    {
      "cell_type": "code",
      "metadata": {
        "id": "44476f3e",
        "outputId": "0bffd63d-053e-4e4f-cb5b-198617fd3efc"
      },
      "source": [
        "rmf_proba"
      ],
      "id": "44476f3e",
      "execution_count": null,
      "outputs": [
        {
          "output_type": "execute_result",
          "data": {
            "text/plain": [
              "array([[0.4400585 , 0.5599415 ],\n",
              "       [0.26700524, 0.73299476],\n",
              "       [0.51931524, 0.48068476],\n",
              "       [0.52603965, 0.47396035],\n",
              "       [0.48149139, 0.51850861],\n",
              "       [0.16834777, 0.83165223],\n",
              "       [0.47697916, 0.52302084],\n",
              "       [0.57202948, 0.42797052],\n",
              "       [0.75941442, 0.24058558],\n",
              "       [0.46958926, 0.53041074],\n",
              "       [0.15116164, 0.84883836],\n",
              "       [0.40950595, 0.59049405],\n",
              "       [0.20776401, 0.79223599],\n",
              "       [0.52261855, 0.47738145],\n",
              "       [0.54096931, 0.45903069],\n",
              "       [0.39793538, 0.60206462],\n",
              "       [0.47799936, 0.52200064],\n",
              "       [0.45181236, 0.54818764],\n",
              "       [0.24527433, 0.75472567],\n",
              "       [0.50154132, 0.49845868],\n",
              "       [0.5637699 , 0.4362301 ],\n",
              "       [0.61593965, 0.38406035],\n",
              "       [0.71662414, 0.28337586],\n",
              "       [0.10447418, 0.89552582],\n",
              "       [0.43031489, 0.56968511],\n",
              "       [0.51746834, 0.48253166],\n",
              "       [0.41407167, 0.58592833],\n",
              "       [0.76280942, 0.23719058],\n",
              "       [0.49610534, 0.50389466],\n",
              "       [0.43720447, 0.56279553],\n",
              "       [0.63774248, 0.36225752],\n",
              "       [0.54861554, 0.45138446],\n",
              "       [0.62090121, 0.37909879],\n",
              "       [0.39566698, 0.60433302],\n",
              "       [0.4511194 , 0.5488806 ],\n",
              "       [0.46744359, 0.53255641],\n",
              "       [0.43056312, 0.56943688],\n",
              "       [0.64950373, 0.35049627],\n",
              "       [0.39813231, 0.60186769],\n",
              "       [0.83243078, 0.16756922],\n",
              "       [0.39152891, 0.60847109],\n",
              "       [0.65998236, 0.34001764],\n",
              "       [0.71274965, 0.28725035],\n",
              "       [0.12408349, 0.87591651],\n",
              "       [0.52941573, 0.47058427],\n",
              "       [0.52578668, 0.47421332],\n",
              "       [0.68215941, 0.31784059],\n",
              "       [0.33020254, 0.66979746],\n",
              "       [0.55694465, 0.44305535],\n",
              "       [0.52148967, 0.47851033],\n",
              "       [0.64441095, 0.35558905],\n",
              "       [0.35946971, 0.64053029],\n",
              "       [0.64250629, 0.35749371],\n",
              "       [0.31660099, 0.68339901],\n",
              "       [0.60238157, 0.39761843],\n",
              "       [0.70053937, 0.29946063],\n",
              "       [0.8811097 , 0.1188903 ],\n",
              "       [0.60757471, 0.39242529],\n",
              "       [0.59469809, 0.40530191],\n",
              "       [0.36392915, 0.63607085],\n",
              "       [0.54872522, 0.45127478],\n",
              "       [0.42084921, 0.57915079],\n",
              "       [0.70252232, 0.29747768],\n",
              "       [0.71532002, 0.28467998],\n",
              "       [0.66017142, 0.33982858],\n",
              "       [0.72268512, 0.27731488],\n",
              "       [0.3607773 , 0.6392227 ],\n",
              "       [0.73516165, 0.26483835],\n",
              "       [0.61334852, 0.38665148],\n",
              "       [0.48984906, 0.51015094],\n",
              "       [0.46625661, 0.53374339],\n",
              "       [0.53741133, 0.46258867],\n",
              "       [0.4504109 , 0.5495891 ],\n",
              "       [0.21595377, 0.78404623],\n",
              "       [0.31620784, 0.68379216],\n",
              "       [0.64377482, 0.35622518],\n",
              "       [0.20589796, 0.79410204],\n",
              "       [0.35691166, 0.64308834],\n",
              "       [0.34851664, 0.65148336],\n",
              "       [0.31611869, 0.68388131],\n",
              "       [0.36694033, 0.63305967],\n",
              "       [0.49740235, 0.50259765],\n",
              "       [0.54261867, 0.45738133],\n",
              "       [0.5812117 , 0.4187883 ],\n",
              "       [0.61483282, 0.38516718],\n",
              "       [0.83728452, 0.16271548],\n",
              "       [0.49275262, 0.50724738],\n",
              "       [0.43890179, 0.56109821],\n",
              "       [0.39817702, 0.60182298],\n",
              "       [0.80028207, 0.19971793],\n",
              "       [0.31552452, 0.68447548],\n",
              "       [0.58607163, 0.41392837],\n",
              "       [0.87807141, 0.12192859],\n",
              "       [0.37324572, 0.62675428]])"
            ]
          },
          "metadata": {
            "tags": []
          },
          "execution_count": 67
        }
      ]
    },
    {
      "cell_type": "code",
      "metadata": {
        "id": "12ee1f99",
        "outputId": "9369d1cd-31d6-4c48-b3a3-443356665b53"
      },
      "source": [
        "from sklearn.metrics import accuracy_score,recall_score,roc_auc_score,confusion_matrix\n",
        "print(\"\\naccuracy score:%f\"%(accuracy_score(y_test,y_pred)*100))\n",
        "print(\"recall score:%f\"%(recall_score(y_test,y_pred)*100))\n",
        "print(\"roc score:%f\"%(roc_auc_score(y_test,y_pred)*100))\n",
        "print(confusion_matrix(y_test,y_pred))"
      ],
      "id": "12ee1f99",
      "execution_count": null,
      "outputs": [
        {
          "output_type": "stream",
          "text": [
            "\n",
            "accuracy score:75.000000\n",
            "recall score:73.333333\n",
            "roc score:75.555556\n",
            "[[ 7  2]\n",
            " [ 4 11]]\n"
          ],
          "name": "stdout"
        }
      ]
    },
    {
      "cell_type": "markdown",
      "metadata": {
        "id": "21f948c4"
      },
      "source": [
        "# Final Accuracy of our Models\n",
        "Comparing all the prediction models"
      ],
      "id": "21f948c4"
    },
    {
      "cell_type": "code",
      "metadata": {
        "id": "af70762c"
      },
      "source": [
        "models = []\n",
        "from sklearn.neighbors import KNeighborsClassifier\n",
        "from sklearn.svm import SVC\n",
        "from sklearn.linear_model import LogisticRegression\n",
        "from sklearn.tree import DecisionTreeClassifier\n",
        "from sklearn.naive_bayes import GaussianNB\n",
        "from sklearn.ensemble import RandomForestClassifier\n",
        "from sklearn.ensemble import GradientBoostingClassifier\n",
        "models.append(('KNN', KNeighborsClassifier()))\n",
        "models.append(('LR', LogisticRegression()))\n",
        "models.append(('SVC', SVC()))\n",
        "models.append(('DT', DecisionTreeClassifier()))\n",
        "models.append(('RF', RandomForestClassifier()))\n",
        "\n",
        "names = []\n",
        "scores = []\n",
        "for name, model in models:\n",
        "    model.fit(x_train, y_train)\n",
        "    y_pred = model.predict(x_test)\n",
        "    scores.append(accuracy_score(y_test, y_pred))\n",
        "    names.append(name)\n",
        "tr_split = pd.DataFrame({'Name': names, 'Score': scores})\n"
      ],
      "id": "af70762c",
      "execution_count": null,
      "outputs": []
    },
    {
      "cell_type": "code",
      "metadata": {
        "id": "216f2f26",
        "outputId": "b19b80f6-ffab-407c-f490-f6a9a68b8639"
      },
      "source": [
        "tr_split"
      ],
      "id": "216f2f26",
      "execution_count": null,
      "outputs": [
        {
          "output_type": "execute_result",
          "data": {
            "text/html": [
              "<div>\n",
              "<style scoped>\n",
              "    .dataframe tbody tr th:only-of-type {\n",
              "        vertical-align: middle;\n",
              "    }\n",
              "\n",
              "    .dataframe tbody tr th {\n",
              "        vertical-align: top;\n",
              "    }\n",
              "\n",
              "    .dataframe thead th {\n",
              "        text-align: right;\n",
              "    }\n",
              "</style>\n",
              "<table border=\"1\" class=\"dataframe\">\n",
              "  <thead>\n",
              "    <tr style=\"text-align: right;\">\n",
              "      <th></th>\n",
              "      <th>Name</th>\n",
              "      <th>Score</th>\n",
              "    </tr>\n",
              "  </thead>\n",
              "  <tbody>\n",
              "    <tr>\n",
              "      <th>0</th>\n",
              "      <td>KNN</td>\n",
              "      <td>0.791667</td>\n",
              "    </tr>\n",
              "    <tr>\n",
              "      <th>1</th>\n",
              "      <td>LR</td>\n",
              "      <td>0.833333</td>\n",
              "    </tr>\n",
              "    <tr>\n",
              "      <th>2</th>\n",
              "      <td>SVC</td>\n",
              "      <td>0.958333</td>\n",
              "    </tr>\n",
              "    <tr>\n",
              "      <th>3</th>\n",
              "      <td>DT</td>\n",
              "      <td>0.708333</td>\n",
              "    </tr>\n",
              "    <tr>\n",
              "      <th>4</th>\n",
              "      <td>RF</td>\n",
              "      <td>0.916667</td>\n",
              "    </tr>\n",
              "  </tbody>\n",
              "</table>\n",
              "</div>"
            ],
            "text/plain": [
              "  Name     Score\n",
              "0  KNN  0.791667\n",
              "1   LR  0.833333\n",
              "2  SVC  0.958333\n",
              "3   DT  0.708333\n",
              "4   RF  0.916667"
            ]
          },
          "metadata": {
            "tags": []
          },
          "execution_count": 72
        }
      ]
    },
    {
      "cell_type": "code",
      "metadata": {
        "id": "4279e8b3",
        "outputId": "cbd6625f-0162-4237-fec1-4ac94f797e16"
      },
      "source": [
        "import seaborn as sns\n",
        "axis = sns.barplot(x = 'Name', y = 'Score', data =tr_split )\n",
        "axis.set(xlabel='Classifier Models', ylabel='Accuracy of the Model')\n",
        "for p in axis.patches:\n",
        "    height = p.get_height()\n",
        "    axis.text(p.get_x() + p.get_width()/2, height + 0.01, '{:1.4f}'.format(height), ha=\"center\") \n",
        "    \n",
        "plt.show()"
      ],
      "id": "4279e8b3",
      "execution_count": null,
      "outputs": [
        {
          "output_type": "display_data",
          "data": {
            "image/png": "[encoded data removed]",
            "text/plain": [
              "<Figure size 432x288 with 1 Axes>"
            ]
          },
          "metadata": {
            "tags": [],
            "needs_background": "light"
          }
        }
      ]
    },
    {
      "cell_type": "code",
      "metadata": {
        "id": "e0d4cfb8",
        "outputId": "f66623de-7a8f-45af-f7b8-780d30576c7d"
      },
      "source": [
        "tr_split['Score'].max()"
      ],
      "id": "e0d4cfb8",
      "execution_count": null,
      "outputs": [
        {
          "output_type": "execute_result",
          "data": {
            "text/plain": [
              "0.9583333333333334"
            ]
          },
          "metadata": {
            "tags": []
          },
          "execution_count": 74
        }
      ]
    },
    {
      "cell_type": "markdown",
      "metadata": {
        "id": "3560ff22"
      },
      "source": [
        "# So we can see and choose the best model for Prediction"
      ],
      "id": "3560ff22"
    }
  ]
}